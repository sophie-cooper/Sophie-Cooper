{
 "cells": [
  {
   "cell_type": "markdown",
   "metadata": {},
   "source": [
    "# R basics\n",
    "\n",
    "We've already mastered some basics of programming using Python. Now we're going to rapidly go through how to port these skills to R.\n",
    "\n",
    "## Commenting\n",
    "Commenting in R is similar to Python, so nothing new to learn here."
   ]
  },
  {
   "cell_type": "code",
   "execution_count": 10,
   "metadata": {},
   "outputs": [],
   "source": [
    "#\n",
    "# THIS IS A COMMENT. NOTHING WILL HAPPEN WHEN WE RUN THIS BLOCK!!\n",
    "# "
   ]
  },
  {
   "cell_type": "markdown",
   "metadata": {},
   "source": [
    "## Assignment\n",
    "\n",
    "R supports three primary ways of performing assignment: '=', '<-', and '<<-'\n",
    "The differences among these operators are a bit subtle. \n",
    "\n",
    "Per [this source], `<-` and `->` can be used anywhere, \n",
    "while \"The operators `<<-` and `->>` are normally only used in functions, \n",
    "and cause a search to be made through parent environments \n",
    "for an existing definition of the variable being assigned\"."
   ]
  },
  {
   "cell_type": "code",
   "execution_count": 2,
   "metadata": {},
   "outputs": [
    {
     "name": "stdout",
     "output_type": "stream",
     "text": [
      "[1] 10\n"
     ]
    }
   ],
   "source": [
    "x = 10\n",
    "print(x)"
   ]
  },
  {
   "cell_type": "code",
   "execution_count": 12,
   "metadata": {},
   "outputs": [
    {
     "name": "stdout",
     "output_type": "stream",
     "text": [
      "[1] 12\n",
      "[1] 13\n"
     ]
    }
   ],
   "source": [
    "y <- 12\n",
    "print(y)\n",
    "13 -> y \n",
    "print(y)"
   ]
  },
  {
   "cell_type": "code",
   "execution_count": 14,
   "metadata": {},
   "outputs": [
    {
     "name": "stdout",
     "output_type": "stream",
     "text": [
      "[1] 14\n",
      "[1] 15\n"
     ]
    }
   ],
   "source": [
    "z <<- 14\n",
    "print(z)\n",
    "15 ->> z \n",
    "print(z)\n",
    "\n",
    "\n"
   ]
  },
  {
   "cell_type": "markdown",
   "metadata": {},
   "source": [
    "`<-` is generally preferred over = for \"historical reasons\". \n",
    "Also, `<-` can be used to do object assignment in a function call, whereas = will only pass arguments without creating a corresponding object.For example, matrix(1,nrow<-2) creates a variable nrow that can be accessed later, but matrix(1,nrow=2) doesn't."
   ]
  },
  {
   "cell_type": "markdown",
   "metadata": {},
   "source": [
    "## Lists\n",
    "\n",
    "There are many ways to create lists in R. One of the most common is the `c` function"
   ]
  },
  {
   "cell_type": "code",
   "execution_count": 16,
   "metadata": {},
   "outputs": [
    {
     "name": "stdout",
     "output_type": "stream",
     "text": [
      "[1] 1 2 3 4 5 7 8\n"
     ]
    }
   ],
   "source": [
    "x <- c(1,2,3,4,5,7,8)\n",
    "print(x)"
   ]
  },
  {
   "cell_type": "markdown",
   "metadata": {},
   "source": [
    "***WATCH OUT! *** \n",
    "In R, (i) functions are case sensitive, and (ii) some bozo had the idea that it would be reasonable to accept the convention of having clashing functions that have the same name, but for case. So there is a `c` function and a `C` function, a `filter` function and a `Filter` function, these DO NOT do the same thing!\n",
    "\n",
    "## Accessing and updating list elements\n",
    "\n",
    "Unlike in Python, R lists are indexed at `1`. We can see that below:"
   ]
  },
  {
   "cell_type": "code",
   "execution_count": 18,
   "metadata": {},
   "outputs": [
    {
     "name": "stdout",
     "output_type": "stream",
     "text": [
      "[1] 15\n",
      "[1] 15  2  3  4  5  7  8\n"
     ]
    }
   ],
   "source": [
    "print(x[1])\n",
    "x[1] <- 15\n",
    "print(x)"
   ]
  },
  {
   "cell_type": "markdown",
   "metadata": {},
   "source": [
    "Moreover, when we access lists with slice notation, the list is inclusive:"
   ]
  },
  {
   "cell_type": "code",
   "execution_count": 19,
   "metadata": {},
   "outputs": [
    {
     "name": "stdout",
     "output_type": "stream",
     "text": [
      "[1] 15  2  3\n"
     ]
    }
   ],
   "source": [
    "print(x[1:3])"
   ]
  },
  {
   "cell_type": "markdown",
   "metadata": {},
   "source": [
    "To unpack what's going on here let's explain an important detail of R programming.\n",
    "Here the `:` operator isn't simply a bit of syntactic sugar used for accessing continuous slices from lists.\n",
    "In fact when `start:end` returns a list of consecutive numbers:"
   ]
  },
  {
   "cell_type": "code",
   "execution_count": 8,
   "metadata": {},
   "outputs": [
    {
     "name": "stdout",
     "output_type": "stream",
     "text": [
      "[1] 4 5 6 7\n",
      "[1] 7 6 5 4\n",
      " [1] -5 -4 -3 -2 -1  0  1  2  3  4  5\n"
     ]
    }
   ],
   "source": [
    "print(4:7)\n",
    "print(7:4)\n",
    "print(-5:5)"
   ]
  },
  {
   "cell_type": "markdown",
   "metadata": {},
   "source": [
    "Thus, when we use `x[1:3]`, we are really running `x[c(1,2,3)]`"
   ]
  },
  {
   "cell_type": "code",
   "execution_count": 9,
   "metadata": {},
   "outputs": [
    {
     "name": "stdout",
     "output_type": "stream",
     "text": [
      "[1] 15  2  3\n",
      "[1] 15  2  3\n"
     ]
    }
   ],
   "source": [
    "print(x[1:3])\n",
    "print(x[c(1,2,3)])"
   ]
  },
  {
   "cell_type": "markdown",
   "metadata": {},
   "source": [
    "Moreover, we can access the elements of a list in any arbitrary order:"
   ]
  },
  {
   "cell_type": "code",
   "execution_count": 10,
   "metadata": {},
   "outputs": [
    {
     "name": "stdout",
     "output_type": "stream",
     "text": [
      "[1]  5  3  4  2  3 15\n"
     ]
    }
   ],
   "source": [
    "print(x[c(5,3,4,2,3,1)])"
   ]
  },
  {
   "cell_type": "markdown",
   "metadata": {},
   "source": [
    "##  Combining lists\n",
    "\n",
    "### Adding lists\n",
    "Note that adding two lists with the `+` operator in R is like adding two numpy arrays (vector addition). "
   ]
  },
  {
   "cell_type": "code",
   "execution_count": 21,
   "metadata": {},
   "outputs": [
    {
     "name": "stdout",
     "output_type": "stream",
     "text": [
      "[1]  4  2  6  4 10 16 11\n"
     ]
    }
   ],
   "source": [
    "a <- c(1,1,2,3,5,7,9) \n",
    "b <- c(3,1,4,1,5,9,2)\n",
    "print(a + b)"
   ]
  },
  {
   "cell_type": "markdown",
   "metadata": {},
   "source": [
    "### Concatenation\n",
    "Recall that this is different from running `list1 + list2` with ordinary Python lists, \n",
    "for which `+` will concatenate the lists.\n",
    "We can concatenate the lists by again calling the `c` function with operands `a` and `b`."
   ]
  },
  {
   "cell_type": "code",
   "execution_count": 22,
   "metadata": {},
   "outputs": [
    {
     "name": "stdout",
     "output_type": "stream",
     "text": [
      " [1] 1 1 2 3 5 7 9 3 1 4 1 5 9 2\n"
     ]
    }
   ],
   "source": [
    "print(c(a,b))"
   ]
  },
  {
   "cell_type": "markdown",
   "metadata": {},
   "source": [
    "### Length of a list \n",
    "We can grab the length of a list by running `length(...)`"
   ]
  },
  {
   "cell_type": "code",
   "execution_count": 23,
   "metadata": {},
   "outputs": [
    {
     "name": "stdout",
     "output_type": "stream",
     "text": [
      "[1] 14\n"
     ]
    }
   ],
   "source": [
    "print(length(c(a,b)))"
   ]
  },
  {
   "cell_type": "markdown",
   "metadata": {},
   "source": [
    "## Basic math\n",
    "\n",
    "Because R is specifically designed for use in mathematical computation,\n",
    "unlike Python where we access math functions via libraries like numpy,\n",
    "in R, basic math functions are built in to the language.\n",
    "Examples include exponentials, trigonometric functions, etc"
   ]
  },
  {
   "cell_type": "code",
   "execution_count": 24,
   "metadata": {},
   "outputs": [
    {
     "name": "stdout",
     "output_type": "stream",
     "text": [
      "[1] 22026.47\n",
      "[1] 0\n",
      "[1] 1\n"
     ]
    }
   ],
   "source": [
    "print(exp(10))\n",
    "print(sin(0))\n",
    "print(sin(pi/2))"
   ]
  },
  {
   "cell_type": "markdown",
   "metadata": {},
   "source": [
    "Note that here, as is typical for R, the language is a bit cluttered,\n",
    "and has many ways of doing the exact same thing.\n",
    "For example we can calculate powers both with `**` and with `^`:"
   ]
  },
  {
   "cell_type": "code",
   "execution_count": 26,
   "metadata": {},
   "outputs": [
    {
     "name": "stdout",
     "output_type": "stream",
     "text": [
      "[1] 8\n",
      "[1] 8\n"
     ]
    }
   ],
   "source": [
    "print(2 ** 3)\n",
    "print(2 ^ 3)"
   ]
  },
  {
   "cell_type": "markdown",
   "metadata": {},
   "source": [
    "### Handy Constants\n",
    "\n",
    "You might have also noticed that in the previous blocks we relied on `pi`, a special constant that is built in to the R language.\n",
    "\n",
    "## Special numbers\n",
    "\n",
    "R also has special number Inf, -Inf and NaN (Not a Number).\n",
    "It's worth playing around with them to get a feeling for their properties, e.g.:"
   ]
  },
  {
   "cell_type": "code",
   "execution_count": 27,
   "metadata": {},
   "outputs": [
    {
     "name": "stdout",
     "output_type": "stream",
     "text": [
      "[1] Inf\n"
     ]
    }
   ],
   "source": [
    "print(Inf * Inf)"
   ]
  },
  {
   "cell_type": "code",
   "execution_count": 28,
   "metadata": {},
   "outputs": [
    {
     "name": "stdout",
     "output_type": "stream",
     "text": [
      "[1] NaN\n"
     ]
    }
   ],
   "source": [
    "print(Inf + -Inf)"
   ]
  },
  {
   "cell_type": "code",
   "execution_count": 29,
   "metadata": {},
   "outputs": [
    {
     "name": "stdout",
     "output_type": "stream",
     "text": [
      "[1] -Inf\n"
     ]
    }
   ],
   "source": [
    "print(Inf * -Inf)"
   ]
  },
  {
   "cell_type": "markdown",
   "metadata": {},
   "source": [
    "A number of built-in functions can check for special values. These include `is.finite()`, `is.infinite()`, `is.nan()`, `is.na()`."
   ]
  },
  {
   "cell_type": "markdown",
   "metadata": {},
   "source": [
    "## Strings \n",
    "\n",
    "Unlike Python R does not allow us to concatenate strings with a conveient command like `+`. Instead, we must use the `paste()` function. The basic syntax is `paste(a,b,...)`.\n"
   ]
  },
  {
   "cell_type": "code",
   "execution_count": 30,
   "metadata": {},
   "outputs": [
    {
     "name": "stdout",
     "output_type": "stream",
     "text": [
      "[1] \"Hello,  World!\"\n"
     ]
    }
   ],
   "source": [
    "x <- \"Hello, \"\n",
    "y <- \"World!\"\n",
    "print(paste(x,y))"
   ]
  },
  {
   "cell_type": "markdown",
   "metadata": {},
   "source": [
    "The `paste()` function also can take an optional argument `sep` if we want to add a specified separator (often called a delimiter) between our concatenated strings:"
   ]
  },
  {
   "cell_type": "code",
   "execution_count": 31,
   "metadata": {},
   "outputs": [
    {
     "name": "stdout",
     "output_type": "stream",
     "text": [
      "[1] \"Hello, ||World!\"\n"
     ]
    }
   ],
   "source": [
    "print(paste(x,y, sep=\"||\"))"
   ]
  },
  {
   "cell_type": "markdown",
   "metadata": {},
   "source": [
    "## Functions\n",
    "\n",
    "There are some key differences in how to define functions in R vs in Python. To start, the syntax to declare a function may seem a bit funky to a C/Python/Java native. Here, the natural way to define a function is to create an *anonymous function* and to assign it to a variable through a conventional assignment operation. Next, there is no explicit `return` statement. Instead, the last value calculated in the body of the function is taken to be its return value."
   ]
  },
  {
   "cell_type": "code",
   "execution_count": 34,
   "metadata": {},
   "outputs": [
    {
     "name": "stdout",
     "output_type": "stream",
     "text": [
      "[1] 100\n"
     ]
    }
   ],
   "source": [
    "square <- function (n)\n",
    "{\n",
    "    n * n\n",
    "}\n",
    "print(square(10))"
   ]
  },
  {
   "cell_type": "markdown",
   "metadata": {},
   "source": [
    "## For loops\n",
    "For loops are rather similar to Python but slightly more verbsose. The `<variable> in <list>` must be enclosed in parentheses and the code block that is executed on each iteration must be enclosed with curly braces `{...}` as with function calls."
   ]
  },
  {
   "cell_type": "code",
   "execution_count": 36,
   "metadata": {},
   "outputs": [
    {
     "name": "stdout",
     "output_type": "stream",
     "text": [
      "[1] \"we have entered the loop for the iteration # 1\"\n",
      "[1] \"we have entered the loop for the iteration # 2\"\n",
      "[1] \"we have entered the loop for the iteration # 3\"\n",
      "[1] \"we have entered the loop for the iteration # 4\"\n",
      "[1] \"we have entered the loop for the iteration # 5\"\n",
      "[1] \"we have entered the loop for the iteration # 6\"\n",
      "[1] \"we have entered the loop for the iteration # 7\"\n",
      "[1] \"we have entered the loop for the iteration # 8\"\n",
      "[1] \"we have entered the loop for the iteration # 9\"\n",
      "[1] \"we have entered the loop for the iteration # 10\"\n"
     ]
    }
   ],
   "source": [
    "for (i in 1:10)\n",
    "{\n",
    "    print(paste(\"we have entered the loop for the iteration #\", i))\n",
    "}"
   ]
  },
  {
   "cell_type": "code",
   "execution_count": null,
   "metadata": {},
   "outputs": [],
   "source": []
  },
  {
   "cell_type": "code",
   "execution_count": null,
   "metadata": {},
   "outputs": [],
   "source": []
  }
 ],
 "metadata": {
  "kernelspec": {
   "display_name": "Python 3",
   "language": "python",
   "name": "python3"
  },
  "language_info": {
   "codemirror_mode": {
    "name": "ipython",
    "version": 3
   },
   "file_extension": ".py",
   "mimetype": "text/x-python",
   "name": "python",
   "nbconvert_exporter": "python",
   "pygments_lexer": "ipython3",
   "version": "3.7.4"
  }
 },
 "nbformat": 4,
 "nbformat_minor": 2
}
