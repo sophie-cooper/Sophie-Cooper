{
 "cells": [
  {
   "cell_type": "markdown",
   "metadata": {},
   "source": [
    "# Variables\n",
    "\n",
    "Now that you have a grasp on *literals*, it's worth asking –how else can we express objects besides using literals? If all values manipulated in a program were *literals*,\n",
    "then we wouldn't need a special name to describe these expressions.\n",
    "It turns out that programs using only literals would not be very interesting. \n",
    "Programming would be like using a calculator. \n",
    "Every program might run the same way every time \n",
    "because all values are hard-coded!\n",
    "The alternative is to store values in *variables*.\n",
    "And this simple abstraction is going to make it easy to write flexible, complex programs.\n",
    "\n",
    "## Assignment\n",
    "\n",
    "Don't worry this isn't a *homework assignment*. In programming ***assignment*** \n",
    "is the act of assigning a *value* to a *variable*. \n",
    "The assigned value here could be a literal could even be the value stored in a different variable.\n",
    "Rather than sucking up too much air talking about assignment, let's just go ahead at do it first:"
   ]
  },
  {
   "cell_type": "code",
   "execution_count": 1,
   "metadata": {},
   "outputs": [],
   "source": [
    "my_variable = \"Hello\""
   ]
  },
  {
   "cell_type": "markdown",
   "metadata": {},
   "source": [
    "So what happened here? Basically, you can think of the assignment operator `=` as a function. It takes the value on the right hand side (RHS), here the *literal* `\"Hello\"`, and it assigns it to a variable with the name given on the left-hand side (LHS), here `my_variable`.\n",
    "Once this value has been assigned, we can now access it by using the variable `my_variable`, \n",
    "vs. by placing redundant literals throughout the code:"
   ]
  },
  {
   "cell_type": "code",
   "execution_count": 2,
   "metadata": {},
   "outputs": [
    {
     "name": "stdout",
     "output_type": "stream",
     "text": [
      "Hello\n"
     ]
    }
   ],
   "source": [
    "print(my_variable)"
   ]
  },
  {
   "cell_type": "markdown",
   "metadata": {},
   "source": [
    "You might have noticed that unlike some other languages, we didn't have to do anything special to allocate the memory that `my_variable` requires. We also didn't need to specify in advance what *type* `my_variable` should store.\n",
    "\n",
    "We needn't assign a variable by providing a literal on the RHS. For starters we can use another variable. \n",
    "Let's assign the content of `my_variable` to `my_other_variable`."
   ]
  },
  {
   "cell_type": "code",
   "execution_count": 3,
   "metadata": {},
   "outputs": [
    {
     "name": "stdout",
     "output_type": "stream",
     "text": [
      "Hello\n"
     ]
    }
   ],
   "source": [
    "my_other_variable = my_variable\n",
    "print(my_other_variable)"
   ]
  },
  {
   "cell_type": "markdown",
   "metadata": {},
   "source": [
    "This allows us to write complex piece of software that can act on any of a range of inputs. We can define the inputs at the top of the program, or pass them in as command line arguments, or even solicit them interactively, by using the `input` function (this tends to be more useful for a command line script than in Jupyter)."
   ]
  },
  {
   "cell_type": "code",
   "execution_count": 4,
   "metadata": {},
   "outputs": [
    {
     "name": "stdout",
     "output_type": "stream",
     "text": [
      "What's your age?\n",
      "Your age is  \n"
     ]
    }
   ],
   "source": [
    "age = input(\"What's your age?\")\n",
    "print(\"Your age is \", age)"
   ]
  },
  {
   "cell_type": "markdown",
   "metadata": {},
   "source": [
    "You might notice that the code above requires you to put the value in quotes, e.g., `\"30\"` vs `30`.\n",
    "\n",
    "### Re-assignment\n",
    "\n",
    "One natural question might be whether, once we assign a value to a variable, we can change the value of that variable. Some languages mainly functional programming languages like Haskell, which are very popular among programming languages professors but not widely used by ordinary humans do not permit this. While Python incorporates some ideas functional programming, in general people use Python in the imperative style, which means, among other things, that we can *mutate* the values of variables.\n",
    "\n",
    "To mutate the value of `my_variable`, we can simply execute another assignment:"
   ]
  },
  {
   "cell_type": "code",
   "execution_count": 5,
   "metadata": {},
   "outputs": [
    {
     "name": "stdout",
     "output_type": "stream",
     "text": [
      "my_variable:  你好\n",
      "my_other_variable:  Hello\n"
     ]
    }
   ],
   "source": [
    "my_variable = \"你好\"\n",
    "print(\"my_variable: \", my_variable)\n",
    "print(\"my_other_variable: \", my_other_variable)"
   ]
  },
  {
   "cell_type": "markdown",
   "metadata": {},
   "source": [
    "Notice that updating `my_variable` did not change the value of `my_other_variable` which had already been assigned. \n",
    "This is an important behavior to take notice of. \n",
    "In general, assigning variables to other variables will lead to *making a copy* when the passed value is a primitive type. However, things will get more complicated when we start talking about other more complicated objects. \n",
    "\n",
    "## What can be a variable?\n",
    "You might be wondering just what can be stored in a variable? So far we've only stuck strings in variables. \n",
    "In short, any Python object can be referenced by a variable.\n",
    "And nearly everything in Python is an object! \n",
    "\n",
    "We can store numbers in variables:"
   ]
  },
  {
   "cell_type": "code",
   "execution_count": 6,
   "metadata": {},
   "outputs": [
    {
     "name": "stdout",
     "output_type": "stream",
     "text": [
      "13\n"
     ]
    }
   ],
   "source": [
    "x = 5\n",
    "y = 8 \n",
    "print(x + y)"
   ]
  },
  {
   "cell_type": "markdown",
   "metadata": {},
   "source": [
    "We can store Booleans in variables:"
   ]
  },
  {
   "cell_type": "code",
   "execution_count": 7,
   "metadata": {},
   "outputs": [
    {
     "name": "stdout",
     "output_type": "stream",
     "text": [
      "False\n"
     ]
    }
   ],
   "source": [
    "p = True\n",
    "q = False\n",
    "print(p and q)"
   ]
  },
  {
   "cell_type": "markdown",
   "metadata": {},
   "source": [
    "And we can even assign functions to variables!"
   ]
  },
  {
   "cell_type": "code",
   "execution_count": 8,
   "metadata": {},
   "outputs": [
    {
     "name": "stdout",
     "output_type": "stream",
     "text": [
      "Finally, a more elegantly named print function.\n",
      "你好 Hello\n",
      "13\n",
      "False\n"
     ]
    }
   ],
   "source": [
    "zacks_print_function = print\n",
    "zacks_print_function(\"Finally, a more elegantly named print function.\")\n",
    "zacks_print_function(my_variable, my_other_variable)\n",
    "zacks_print_function(x+y)\n",
    "zacks_print_function(p and q)"
   ]
  },
  {
   "cell_type": "markdown",
   "metadata": {},
   "source": [
    "## Naming Variables \n",
    "\n",
    "There are a few naming conventions in Python. Some of these are rules and others are just stylistic guidelines that prevent your code from looking ridiculous.\n",
    "\n",
    " 1. Variable names should be lower-cased.\n",
    " 1. Each name should start with a letter or sometimes and underscore, but never a numbe"
   ]
  },
  {
   "cell_type": "code",
   "execution_count": null,
   "metadata": {},
   "outputs": [],
   "source": []
  }
 ],
 "metadata": {
  "kernelspec": {
   "display_name": "Python 3",
   "language": "python",
   "name": "python3"
  },
  "language_info": {
   "codemirror_mode": {
    "name": "ipython",
    "version": 3
   },
   "file_extension": ".py",
   "mimetype": "text/x-python",
   "name": "python",
   "nbconvert_exporter": "python",
   "pygments_lexer": "ipython3",
   "version": "3.7.4"
  }
 },
 "nbformat": 4,
 "nbformat_minor": 2
}
