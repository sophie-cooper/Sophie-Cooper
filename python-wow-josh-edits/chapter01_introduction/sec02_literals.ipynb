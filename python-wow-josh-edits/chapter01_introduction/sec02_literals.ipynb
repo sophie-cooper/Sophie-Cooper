{
 "cells": [
  {
   "cell_type": "markdown",
   "metadata": {},
   "source": [
    "# Literals \n",
    "\n",
    "If you've already learned any other program language, \n",
    "then you've probably come across the terms *literal* and *variable*.\n",
    "Unfortunately, these concepts are so fundamental\n",
    "that likely many resources will already assume that you know what they mean.\n",
    "I find this kind of presumption annoying, \n",
    "and it's really not so much extra effort to unpack these basic ideas,\n",
    "so let's do it here.\n",
    "Because some Python concepts, like objects, are simultaneously more advanced,\n",
    "and yet baked to every tiny fiber of the entire language, including literals,\n",
    "we'll need to be a bit circular - but hopefully no more than necessary.\n",
    "\n",
    "## Literals\n",
    "In Python a *literal* is a way of expressing an object directly in the syntax of the programming language.\n",
    "Usually this is some primitive piece of data, like a *number*, *string* (of text), *boolean* (true/false value).\n",
    "It's also possible to express more complex objects, such as collection of values (e.g. lists and dictionaries) as literals. However, because we haven't introduced collections yet, let's focus on the primitive values here.\n",
    "Let's go back to our running example, a useless program that just prints text to the screen."
   ]
  },
  {
   "cell_type": "code",
   "execution_count": 1,
   "metadata": {},
   "outputs": [
    {
     "name": "stdout",
     "output_type": "stream",
     "text": [
      "hello\n"
     ]
    }
   ],
   "source": [
    "print(\"hello\")"
   ]
  },
  {
   "cell_type": "markdown",
   "metadata": {},
   "source": [
    "Here `\"hello\"` is called a string literal. It's called a \"literal\" because *literally* just stuck that value right in the code. The word *literally* means \"actually\", \"exactly\", \"precisely\", \"really\", or \"truly\", and that's why we call this kind sort of expression a literal. Being a literal doesn't depend on any specific value. Rather, it's a literal because of how we represent this information. The Chinese version:"
   ]
  },
  {
   "cell_type": "code",
   "execution_count": 2,
   "metadata": {},
   "outputs": [
    {
     "name": "stdout",
     "output_type": "stream",
     "text": [
      "你好\n"
     ]
    }
   ],
   "source": [
    "print(\"你好\")"
   ]
  },
  {
   "cell_type": "markdown",
   "metadata": {},
   "source": [
    "should also be described as using a *literal* in precisely the same way."
   ]
  },
  {
   "cell_type": "markdown",
   "metadata": {},
   "source": [
    "### String Literals\n",
    "\n",
    "Strings are just one kind of literal and we can indicate to Python that the text cimprising the string is part of a literal and not part of a string and not the instructions comprising the program itself\n",
    "by marking them with quotation marks.\n",
    "\n",
    "We can mark literals in the following ways:\n",
    " 1. by marking them with single quotation marks\n"
   ]
  },
  {
   "cell_type": "code",
   "execution_count": 3,
   "metadata": {},
   "outputs": [
    {
     "name": "stdout",
     "output_type": "stream",
     "text": [
      "Hello\n"
     ]
    }
   ],
   "source": [
    "print('Hello')"
   ]
  },
  {
   "cell_type": "markdown",
   "metadata": {},
   "source": [
    " 2. By marking them with double quotation marks"
   ]
  },
  {
   "cell_type": "code",
   "execution_count": 4,
   "metadata": {},
   "outputs": [
    {
     "name": "stdout",
     "output_type": "stream",
     "text": [
      "Hello\n"
     ]
    }
   ],
   "source": [
    "print(\"Hello\")"
   ]
  },
  {
   "cell_type": "markdown",
   "metadata": {},
   "source": [
    " 3. And finally, by marking them with triple quotation marks. Triple quotation marks are useful for because they allow us to write multi-line strings."
   ]
  },
  {
   "cell_type": "code",
   "execution_count": 5,
   "metadata": {},
   "outputs": [
    {
     "name": "stdout",
     "output_type": "stream",
     "text": [
      "\n",
      "Hello, check this out:\n",
      "This is a two-line string\n",
      "\n"
     ]
    }
   ],
   "source": [
    "print(\"\"\"\n",
    "Hello, check this out:\n",
    "This is a two-line string\n",
    "\"\"\")"
   ]
  },
  {
   "cell_type": "markdown",
   "metadata": {},
   "source": [
    "## Numeric Literals\n",
    "\n",
    "Literals are not restricted to strings. We can also present numbers as literals:"
   ]
  },
  {
   "cell_type": "code",
   "execution_count": 6,
   "metadata": {},
   "outputs": [
    {
     "name": "stdout",
     "output_type": "stream",
     "text": [
      "42\n"
     ]
    }
   ],
   "source": [
    "print(42)"
   ]
  },
  {
   "cell_type": "code",
   "execution_count": 7,
   "metadata": {},
   "outputs": [
    {
     "name": "stdout",
     "output_type": "stream",
     "text": [
      "4.2\n"
     ]
    }
   ],
   "source": [
    "print(4.2)"
   ]
  },
  {
   "cell_type": "markdown",
   "metadata": {},
   "source": [
    "There are three main kinds of numbers built in to Python: \n",
    "integers (ints), floating point numbers (floats), and complex numbers. \n",
    "In the next notebook, we'll get more specific about what a *type* means. \n",
    "For now we'll focus on giving some intuition. \n",
    "\n",
    "### Integer Literals\n",
    "\n",
    "Integers are the numbers, e.g. $14$, that can be written without a fractional component. Formally they are the set containing zero ($0$), the positive counting numbers ($1,2, ... $), and their negative counterparts ($-1, -2, ...$).\n",
    "Python will typically assume that any number without a decimal (so `14.28` is *NOT* an integer).\n",
    "\n",
    "To differentiate the Python data type from the mathematical concept we will usually use `int` (vs. integer) to describe these objects. We can tell that Python thinks that `7` is an `int` in two ways. First we'll notice that if we print it, Python prints a number with no fractional component:"
   ]
  },
  {
   "cell_type": "code",
   "execution_count": 8,
   "metadata": {},
   "outputs": [
    {
     "name": "stdout",
     "output_type": "stream",
     "text": [
      "7\n"
     ]
    }
   ],
   "source": [
    "print(7)"
   ]
  },
  {
   "cell_type": "markdown",
   "metadata": {},
   "source": [
    "Second, Python gives us a way to directly inspect the type of any object. We can call the `type` function. We'll get more into functions when we learn how to define out own functions in the third chapter. For now, suffice it to say that a function takes some input (or possibly no input at all!) and returns some output (or possibly no output!).\n",
    "\n",
    "You might have noticed that we've already been working with one function: `print`. This function takes an input, but returns nothing. The full picture is a bit complex but that shouldn't worry us now. For now, just know that *invoke* a function - let's call it `funky`, with an input, let's call it `my_object`, we call `funky(my_object)`. Now let's put this lesson to practice by invoking the type function:"
   ]
  },
  {
   "cell_type": "code",
   "execution_count": 9,
   "metadata": {},
   "outputs": [
    {
     "name": "stdout",
     "output_type": "stream",
     "text": [
      "<class 'int'>\n"
     ]
    }
   ],
   "source": [
    "print(type(7))"
   ]
  },
  {
   "cell_type": "markdown",
   "metadata": {},
   "source": [
    "**Side note:** An attentive reader be wondering what sort of object does the `type` function return? \n",
    "We can check this easily by running:"
   ]
  },
  {
   "cell_type": "code",
   "execution_count": 10,
   "metadata": {},
   "outputs": [
    {
     "name": "stdout",
     "output_type": "stream",
     "text": [
      "<class 'type'>\n"
     ]
    }
   ],
   "source": [
    "print(type(type(7)))"
   ]
  },
  {
   "cell_type": "markdown",
   "metadata": {},
   "source": [
    "Sure enough, the type of a *type*, is ... *type*! \n",
    "Let's move on lest things get too meta before you've learned the ABCs.\n",
    "\n",
    "\n",
    "### Float Literals\n",
    "\n",
    "If you're following up until now then floating point numbers will be easy. Similarly, we'll use `float` to differentiate the Python data type from the more general concept of continous numbers. \n",
    "We can make a floating point literal by using a decimal:"
   ]
  },
  {
   "cell_type": "code",
   "execution_count": 11,
   "metadata": {},
   "outputs": [
    {
     "name": "stdout",
     "output_type": "stream",
     "text": [
      "14.28\n",
      "<class 'float'>\n"
     ]
    }
   ],
   "source": [
    "print(14.28)\n",
    "print(type(14.28))"
   ]
  },
  {
   "cell_type": "markdown",
   "metadata": {},
   "source": [
    "Note that Python doesn't care if we add trailing zeros. In other words, `7.1`, `7.10`, and `7.100` are all the same:"
   ]
  },
  {
   "cell_type": "code",
   "execution_count": 12,
   "metadata": {},
   "outputs": [
    {
     "name": "stdout",
     "output_type": "stream",
     "text": [
      "7.1\n",
      "7.1\n",
      "7.1\n"
     ]
    }
   ],
   "source": [
    "print(7.1)\n",
    "print(7.10)\n",
    "print(7.100)"
   ]
  },
  {
   "cell_type": "markdown",
   "metadata": {},
   "source": [
    "It's important to note that the presence or lack a decimal matters, it makes the difference between Python reading a number literal as an `int` or a `float`:"
   ]
  },
  {
   "cell_type": "code",
   "execution_count": 13,
   "metadata": {},
   "outputs": [
    {
     "name": "stdout",
     "output_type": "stream",
     "text": [
      "4 <class 'int'>\n",
      "4.0 <class 'float'>\n"
     ]
    }
   ],
   "source": [
    "print(4, type(4))\n",
    "print(4., type(4.))"
   ]
  },
  {
   "cell_type": "markdown",
   "metadata": {},
   "source": [
    "## Boolean literal\n",
    "\n",
    "Python has a few other kinds of literals. One we'll work with extensively when we start talking about if-then statements is the Boolean value. These are the basic values that we work with in logical predicates and they can only take two values: `True` and False`"
   ]
  },
  {
   "cell_type": "code",
   "execution_count": 14,
   "metadata": {},
   "outputs": [
    {
     "name": "stdout",
     "output_type": "stream",
     "text": [
      "True <class 'bool'>\n",
      "False <class 'bool'>\n"
     ]
    }
   ],
   "source": [
    "print(True, type(True))\n",
    "print(False, type(False))"
   ]
  },
  {
   "cell_type": "code",
   "execution_count": null,
   "metadata": {},
   "outputs": [],
   "source": []
  }
 ],
 "metadata": {
  "kernelspec": {
   "display_name": "Python 3",
   "language": "python",
   "name": "python3"
  },
  "language_info": {
   "codemirror_mode": {
    "name": "ipython",
    "version": 3
   },
   "file_extension": ".py",
   "mimetype": "text/x-python",
   "name": "python",
   "nbconvert_exporter": "python",
   "pygments_lexer": "ipython3",
   "version": "3.7.4"
  }
 },
 "nbformat": 4,
 "nbformat_minor": 4
}
