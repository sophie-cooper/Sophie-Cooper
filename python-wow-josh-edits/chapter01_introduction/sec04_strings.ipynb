{
 "cells": [
  {
   "cell_type": "markdown",
   "metadata": {},
   "source": [
    "# Strings\n",
    "\n",
    "We've been playing around with strings in the previous notebooks. \n",
    "We'll briefly go through a grab-bag of things we can do with strings.\n",
    "\n",
    "For these examples we'll work with the following strings:"
   ]
  },
  {
   "cell_type": "code",
   "execution_count": 1,
   "metadata": {},
   "outputs": [],
   "source": [
    "string1 = \"This is my string! It belongs to ME!\"\n",
    "string2 = \"And this string belongs to you!\""
   ]
  },
  {
   "cell_type": "markdown",
   "metadata": {},
   "source": [
    "### Calculating length"
   ]
  },
  {
   "cell_type": "code",
   "execution_count": 2,
   "metadata": {},
   "outputs": [
    {
     "name": "stdout",
     "output_type": "stream",
     "text": [
      "36\n",
      "31\n"
     ]
    }
   ],
   "source": [
    "print(len(string1))\n",
    "print(len(string2))\n",
    "\n",
    "string3 = \"fdsnjksfdj\""
   ]
  },
  {
   "cell_type": "markdown",
   "metadata": {},
   "source": [
    "## Concatenation \n",
    "\n",
    "Concatenation is a name for the operation where we one string and append it to the end of another string, yielding a new, longer string."
   ]
  },
  {
   "cell_type": "code",
   "execution_count": 3,
   "metadata": {},
   "outputs": [
    {
     "name": "stdout",
     "output_type": "stream",
     "text": [
      "string1:  Helm, warp one -- \n",
      "string2:  Engage!\n",
      "string3:  Helm, warp one -- Engage!\n"
     ]
    }
   ],
   "source": [
    "string1 = \"Helm, warp one -- \"\n",
    "string2 = \"Engage!\"\n",
    "string3 = string1 + string2\n",
    "\n",
    "print(\"string1: \", string1)\n",
    "print(\"string2: \", string2)\n",
    "print(\"string3: \", string3)"
   ]
  },
  {
   "cell_type": "markdown",
   "metadata": {},
   "source": [
    "Whenever we concatenate two strings, the resulting string will have a length equal to the some of the substrings from which it was formed. "
   ]
  },
  {
   "cell_type": "code",
   "execution_count": 4,
   "metadata": {},
   "outputs": [
    {
     "name": "stdout",
     "output_type": "stream",
     "text": [
      "18\n",
      "7\n",
      "25\n",
      "25\n"
     ]
    }
   ],
   "source": [
    "print(len(string1))\n",
    "print(len(string2))\n",
    "print(len(string3))\n",
    "print(len(string1) + len(string2))\n"
   ]
  },
  {
   "cell_type": "markdown",
   "metadata": {},
   "source": [
    "## String Methods\n",
    "\n",
    "We'll get more into how objects work in subsequent chapters but it's time you learned that objects are associated with some functionality by means of *methods*. Methods are basically functions that act upon a given object. We can invoke an object's methods with syntax that looks like this `object.method_name()`. Just as we can provide inputs (also called arguments) to a function, e.g. `print(string1, string2)` some methods require additional inputs. \n",
    "\n",
    "All strings come bundled with a few helpful methods. The following handy methods don't require any arguments: We can flip all alphabetic characters to either upper or lower case by calling the `.upper()` or `.lower()` methods, respectively (leaving numeric and special characters alone)."
   ]
  },
  {
   "cell_type": "code",
   "execution_count": 5,
   "metadata": {},
   "outputs": [
    {
     "name": "stdout",
     "output_type": "stream",
     "text": [
      "regular: \t Helm, warp one -- Engage!\n",
      "upper: \t \t HELM, WARP ONE -- ENGAGE!\n",
      "lower: \t \t helm, warp one -- engage!\n",
      "original: \t Helm, warp one -- Engage!\n"
     ]
    }
   ],
   "source": [
    "print(\"regular: \\t\", string3)\n",
    "print(\"upper: \\t \\t\", string3.upper())\n",
    "print(\"lower: \\t \\t\", string3.lower())\n",
    "print(\"original: \\t\", string3)"
   ]
  },
  {
   "cell_type": "markdown",
   "metadata": {},
   "source": [
    "Note that calling the method did not change the original string. In other words, `.upper()` is a function, that returns a new string (that is all upper cased), while leaving the underlying object unchanged. We can see this clearly here:"
   ]
  },
  {
   "cell_type": "code",
   "execution_count": 6,
   "metadata": {},
   "outputs": [
    {
     "name": "stdout",
     "output_type": "stream",
     "text": [
      "Helm, warp one -- Engage!\n",
      "HELM, WARP ONE -- ENGAGE!\n",
      "<class 'str'>\n"
     ]
    }
   ],
   "source": [
    "upper_string = string3.upper()\n",
    "print(string3)\n",
    "print(upper_string)\n",
    "print(type(upper_string))"
   ]
  },
  {
   "cell_type": "markdown",
   "metadata": {},
   "source": [
    "Note that `upper_string` has no idea that it was produced by setting `string3` to upper case. All trace of the original capitalziation scheme is lost. As far as it's concerned, `upper_string` is just an ordinary string that happens to contain capital letters."
   ]
  },
  {
   "cell_type": "markdown",
   "metadata": {},
   "source": [
    "## Escape Sequences\n",
    "\n",
    "For certain special characters we can't just express them in a string literal. We need to use an escape sequence. One example is the newline character. To express a newline in a string literal we can't actually put a newline in the middle of the code. Instead, we use \"\\n\"."
   ]
  },
  {
   "cell_type": "code",
   "execution_count": 7,
   "metadata": {},
   "outputs": [
    {
     "name": "stdout",
     "output_type": "stream",
     "text": [
      "a\n",
      "b\n",
      "c\n"
     ]
    }
   ],
   "source": [
    "print(\"a\\nb\\nc\")"
   ]
  },
  {
   "cell_type": "markdown",
   "metadata": {},
   "source": [
    "Similarly `\"\\t\"` indicates a horizontal tab, `\"\\\\\"` indicates a backslash, and `\\\"` represents a double quote. Note that we only need to escape double quotes inside a double-quote-enclosed string literal. Likewise, we only need to escape single quotes inside a single-quote-enclosed string literal. However, either kind of quotation mark *can* be indicated via an escape sequence, regardless of whether the string is double- or single-quote-enclosed. "
   ]
  },
  {
   "cell_type": "code",
   "execution_count": 8,
   "metadata": {},
   "outputs": [
    {
     "name": "stdout",
     "output_type": "stream",
     "text": [
      "\"\n",
      "\"\n",
      "\"\n"
     ]
    }
   ],
   "source": [
    "print('\\\"')\n",
    "print('\"')\n",
    "print(\"\\\"\")"
   ]
  },
  {
   "cell_type": "code",
   "execution_count": null,
   "metadata": {},
   "outputs": [],
   "source": []
  }
 ],
 "metadata": {
  "kernelspec": {
   "display_name": "Python 3",
   "language": "python",
   "name": "python3"
  },
  "language_info": {
   "codemirror_mode": {
    "name": "ipython",
    "version": 3
   },
   "file_extension": ".py",
   "mimetype": "text/x-python",
   "name": "python",
   "nbconvert_exporter": "python",
   "pygments_lexer": "ipython3",
   "version": "3.7.4"
  }
 },
 "nbformat": 4,
 "nbformat_minor": 2
}
