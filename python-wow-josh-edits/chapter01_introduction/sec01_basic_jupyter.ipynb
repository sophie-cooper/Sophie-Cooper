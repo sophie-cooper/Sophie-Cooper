{
 "cells": [
  {
   "cell_type": "markdown",
   "metadata": {},
   "source": [
    "## Basic Jupyter\n",
    "\n",
    "If you've gotten this notebook working in your browser, then you're very close to overcoming the hardest part of all software development: getting the computer turn on, take your code, excecute it, and produce the desired output. [If you're reading this document on GitHub but don't have Jupyter installed, follow these instructions.](http://jupyter.readthedocs.io/en/latest/install.html)\n",
    "\n",
    "\n",
    "To test that you've really gotten this far, click in the code cell below (code cells are indicated with `In [ ]:`). If you click on a cell outside of the textbox, it should turn blue:\n",
    "\n",
    "![](../assets/blue_highlight.png)\n",
    "\n",
    "The **blue** border indicates that you are in `Command mode`. On the other hand, if you click inside the textbox, the border should turn **green**:\n",
    "\n",
    "![](../assets/green_highlight.png)\n",
    "\n",
    "Try it out:"
   ]
  },
  {
   "cell_type": "code",
   "execution_count": 1,
   "metadata": {},
   "outputs": [
    {
     "name": "stdout",
     "output_type": "stream",
     "text": [
      "Nǐ hǎo, shìjiè\n"
     ]
    }
   ],
   "source": [
    "message = \"Nǐ hǎo, shìjiè\"\n",
    "print(message)"
   ]
  },
  {
   "cell_type": "code",
   "execution_count": 7,
   "metadata": {},
   "outputs": [],
   "source": [
    "## everything is an object\n",
    "message2 = \"hello world\"\n",
    "message3 = 'hello world'"
   ]
  },
  {
   "cell_type": "code",
   "execution_count": 8,
   "metadata": {},
   "outputs": [
    {
     "name": "stdout",
     "output_type": "stream",
     "text": [
      "hello world\n",
      "hello world\n"
     ]
    }
   ],
   "source": [
    "print(message2)\n",
    "print(message3)"
   ]
  },
  {
   "cell_type": "code",
   "execution_count": 10,
   "metadata": {},
   "outputs": [
    {
     "data": {
      "text/plain": [
       "True"
      ]
     },
     "execution_count": 10,
     "metadata": {},
     "output_type": "execute_result"
    }
   ],
   "source": [
    "message2 == message3"
   ]
  },
  {
   "cell_type": "code",
   "execution_count": 14,
   "metadata": {},
   "outputs": [],
   "source": [
    "part1 = 'hello '"
   ]
  },
  {
   "cell_type": "code",
   "execution_count": 15,
   "metadata": {},
   "outputs": [],
   "source": [
    "part2 = 'world'"
   ]
  },
  {
   "cell_type": "code",
   "execution_count": 18,
   "metadata": {},
   "outputs": [
    {
     "name": "stdout",
     "output_type": "stream",
     "text": [
      "hello \n",
      "world\n",
      "hello world\n"
     ]
    }
   ],
   "source": [
    "print(part1)\n",
    "print(part2)\n",
    "print(part1 + part2)"
   ]
  },
  {
   "cell_type": "code",
   "execution_count": 20,
   "metadata": {},
   "outputs": [
    {
     "name": "stdout",
     "output_type": "stream",
     "text": [
      "6\n",
      "5\n"
     ]
    }
   ],
   "source": [
    "print(len(part1))\n",
    "print(len(part2))"
   ]
  },
  {
   "cell_type": "code",
   "execution_count": 24,
   "metadata": {},
   "outputs": [],
   "source": [
    "conc = part1 + part2"
   ]
  },
  {
   "cell_type": "code",
   "execution_count": 26,
   "metadata": {},
   "outputs": [
    {
     "data": {
      "text/plain": [
       "'hello world'"
      ]
     },
     "execution_count": 26,
     "metadata": {},
     "output_type": "execute_result"
    }
   ],
   "source": [
    "5 + 5 \n",
    "'hello ' + 'world'"
   ]
  },
  {
   "cell_type": "code",
   "execution_count": 27,
   "metadata": {},
   "outputs": [
    {
     "data": {
      "text/plain": [
       "'5'"
      ]
     },
     "execution_count": 27,
     "metadata": {},
     "output_type": "execute_result"
    }
   ],
   "source": [
    "str(5)"
   ]
  },
  {
   "cell_type": "code",
   "execution_count": 28,
   "metadata": {},
   "outputs": [
    {
     "name": "stdout",
     "output_type": "stream",
     "text": [
      "5\n"
     ]
    }
   ],
   "source": [
    "print(str(5))"
   ]
  },
  {
   "cell_type": "code",
   "execution_count": 29,
   "metadata": {},
   "outputs": [
    {
     "name": "stdout",
     "output_type": "stream",
     "text": [
      "<class 'str'>\n",
      "<class 'int'>\n"
     ]
    }
   ],
   "source": [
    "print(type(str(5)))\n",
    "print(type(5))"
   ]
  },
  {
   "cell_type": "code",
   "execution_count": 43,
   "metadata": {},
   "outputs": [
    {
     "data": {
      "text/plain": [
       "'It is now 5 degrees Celcius'"
      ]
     },
     "execution_count": 43,
     "metadata": {},
     "output_type": "execute_result"
    }
   ],
   "source": [
    "'It is now %s degrees Celcius' % (5)"
   ]
  },
  {
   "cell_type": "code",
   "execution_count": 30,
   "metadata": {},
   "outputs": [
    {
     "name": "stdout",
     "output_type": "stream",
     "text": [
      "11\n"
     ]
    }
   ],
   "source": [
    "print(len(conc))"
   ]
  },
  {
   "cell_type": "code",
   "execution_count": 31,
   "metadata": {},
   "outputs": [
    {
     "data": {
      "text/plain": [
       "'The Spy Who Came In From The Cold'"
      ]
     },
     "execution_count": 31,
     "metadata": {},
     "output_type": "execute_result"
    }
   ],
   "source": [
    "\"the spy who came in from the cold\".title()"
   ]
  },
  {
   "cell_type": "code",
   "execution_count": 32,
   "metadata": {},
   "outputs": [],
   "source": [
    "book = 'the spy who came in from the cold'"
   ]
  },
  {
   "cell_type": "code",
   "execution_count": 34,
   "metadata": {},
   "outputs": [
    {
     "data": {
      "text/plain": [
       "'the spy who came in from the cold'"
      ]
     },
     "execution_count": 34,
     "metadata": {},
     "output_type": "execute_result"
    }
   ],
   "source": [
    "book.title()\n",
    "book"
   ]
  },
  {
   "cell_type": "code",
   "execution_count": 40,
   "metadata": {},
   "outputs": [],
   "source": [
    "book2 = book.title()\n"
   ]
  },
  {
   "cell_type": "code",
   "execution_count": 41,
   "metadata": {},
   "outputs": [
    {
     "data": {
      "text/plain": [
       "'the spy who came in from the cold'"
      ]
     },
     "execution_count": 41,
     "metadata": {},
     "output_type": "execute_result"
    }
   ],
   "source": [
    "book2\n",
    "book"
   ]
  },
  {
   "cell_type": "code",
   "execution_count": 38,
   "metadata": {},
   "outputs": [
    {
     "data": {
      "text/plain": [
       "'THE SPY WHO CAME IN FROM THE COLD'"
      ]
     },
     "execution_count": 38,
     "metadata": {},
     "output_type": "execute_result"
    }
   ],
   "source": [
    "book.upper()"
   ]
  },
  {
   "cell_type": "markdown",
   "metadata": {},
   "source": [
    "You should be able to flip the cell back and forth from green to blue. Once you've selected a cell, you can enter edit mode (green) by pressing `Enter` and you can return to command mode by pressing `Esc`."
   ]
  },
  {
   "cell_type": "markdown",
   "metadata": {},
   "source": [
    "### Executing code\n",
    "\n",
    "Now you're ready to execute the program. \n",
    "Unlike C, Python is an *interpreted* language.\n",
    "That means we don't compile the program down to raw machine instructions that we can feed directly to your computer's processor. \n",
    "Instead we're going to rely upon another program to act as an intermediary to execute your program.\n",
    "In Jupyter these programs, which allow you to run your code interactively and inspect your code are called \"kernels\".\n",
    "For some reason, this definition is often overlooked, \n",
    "which is extremely annoying \n",
    "because the term \"kernel\" is badly overloaded. \n",
    "The central part of an operating system is called a kernel,\n",
    "the Python interpreter is called a \"kernel\",\n",
    "and once we move on to advanced applications of data science,\n",
    "we'll find that the word \"kernel\" is used to refer to a similarity metric.\n",
    "\n",
    "Jupyter supports kernels for many languages, including various versions of Julia, Lua, Matlab, Perl, PhP, Python.\n",
    "Some of these languages are great, \n",
    "while others are horrendous wastes of time \n",
    "that might sap your will to live.\n",
    "We'll postpone that debate for another time\n",
    "because in this course I've declared axiomatically\n",
    "that the only language of interest is Python3.\n",
    "To make sure that Jupyter is using the Python3 kernel\n",
    "to execute your code, select it from the Kernel dropdown:\n",
    "\n",
    "![](../assets/kernel_dropdown_small.png)\n",
    "\n",
    "Running code is simple. Just select the cell you want to execute.\n",
    "Now you have three main choices. If you prefer the visual interface, hit the \"Run\" button above:\n",
    "![](../assets/run_cell_small.png)\n",
    "\n",
    "Try it out below"
   ]
  },
  {
   "cell_type": "code",
   "execution_count": 44,
   "metadata": {},
   "outputs": [
    {
     "name": "stdout",
     "output_type": "stream",
     "text": [
      "Nǐ hǎo, shìjiè\n"
     ]
    }
   ],
   "source": [
    "message = \"Nǐ hǎo, shìjiè\"\n",
    "print(message)"
   ]
  },
  {
   "cell_type": "markdown",
   "metadata": {},
   "source": [
    "If everything worked, then you probably see should see `Nǐ hǎo, shìjiè`,\n",
    "printed just below your code block. You just ran your first program! \n",
    "Eventually you'll probably get tired of having to move your mouse every time you want to execute a cell. \n",
    "\n",
    "As a result, I recommend memorizing the following two key sequences:\n",
    "`CTRL+Enter` which will run a cell and keep focus on that same cell\n",
    "and `Shift+Enter`, which runs the cell and moves focus to the next cell.\n",
    "\n"
   ]
  },
  {
   "cell_type": "markdown",
   "metadata": {},
   "source": [
    "### Printing variables\n",
    "\n",
    "One last detail before we move on. You might have noticed that instead of the usual `print(\"Hello, world!\")` program, we did a couple things differently. First, we printed the message in phonetic Chinese to avoid the monotony of having to write \"Hello, world\" for the n-teenth time.\n",
    "But more importantly, we first wrote our message in to a variable called `message`. Then we printed the message:\n",
    "\n",
    "```\n",
    "message = \"Nǐ hǎo, shìjiè\"\n",
    "print(message)\n",
    "```\n",
    "\n",
    "As you can see, that's not actually necessary."
   ]
  },
  {
   "cell_type": "code",
   "execution_count": 45,
   "metadata": {},
   "outputs": [
    {
     "name": "stdout",
     "output_type": "stream",
     "text": [
      "Nǐ hǎo, shìjiè\n"
     ]
    }
   ],
   "source": [
    "print(\"Nǐ hǎo, shìjiè\")"
   ]
  },
  {
   "cell_type": "markdown",
   "metadata": {},
   "source": [
    "A variable is just a placeholder where we can store arbitrary data, in this case a text string. We'll get more into precisely what variables and various data types are in the next notebook. But we snuck it in early here show off three more aspects of how Jupyter notebooks work.\n",
    "\n",
    "First, notice that variables, once assigned, persist across notebook cells. So if we take the variable `message` defined above, we can print it again without having to define it again:"
   ]
  },
  {
   "cell_type": "code",
   "execution_count": 46,
   "metadata": {},
   "outputs": [
    {
     "name": "stdout",
     "output_type": "stream",
     "text": [
      "Nǐ hǎo, shìjiè\n"
     ]
    }
   ],
   "source": [
    "print(message)"
   ]
  },
  {
   "cell_type": "markdown",
   "metadata": {},
   "source": [
    "Next, note that if we put a variable name as the last line of a codeblock,\n",
    "Jupyter will assume that we want to print it to the screen."
   ]
  },
  {
   "cell_type": "code",
   "execution_count": 47,
   "metadata": {},
   "outputs": [
    {
     "data": {
      "text/plain": [
       "11"
      ]
     },
     "execution_count": 47,
     "metadata": {},
     "output_type": "execute_result"
    }
   ],
   "source": [
    "a = 10\n",
    "b = 11\n",
    "c = 12\n",
    "b"
   ]
  },
  {
   "cell_type": "markdown",
   "metadata": {},
   "source": [
    "Third, **Jupyter doesn't care in what order the blocks appear in the notebook**. It only **in what order the cells are run.** We can test this by running the cells below. If you run them in the order that they appear,\n",
    "you should get an error: ``NameError: name 'message_chinese' is not defined``. If you run the second cell first, then everything should go smoothly."
   ]
  },
  {
   "cell_type": "code",
   "execution_count": 48,
   "metadata": {},
   "outputs": [
    {
     "ename": "NameError",
     "evalue": "name 'message_chinese' is not defined",
     "output_type": "error",
     "traceback": [
      "\u001b[1;31m---------------------------------------------------------------------------\u001b[0m",
      "\u001b[1;31mNameError\u001b[0m                                 Traceback (most recent call last)",
      "\u001b[1;32m<ipython-input-48-a8b654bfd02b>\u001b[0m in \u001b[0;36m<module>\u001b[1;34m\u001b[0m\n\u001b[1;32m----> 1\u001b[1;33m \u001b[0mprint\u001b[0m\u001b[1;33m(\u001b[0m\u001b[0mmessage_chinese\u001b[0m\u001b[1;33m)\u001b[0m\u001b[1;33m\u001b[0m\u001b[1;33m\u001b[0m\u001b[0m\n\u001b[0m",
      "\u001b[1;31mNameError\u001b[0m: name 'message_chinese' is not defined"
     ]
    }
   ],
   "source": [
    "print(message_chinese)"
   ]
  },
  {
   "cell_type": "code",
   "execution_count": 49,
   "metadata": {},
   "outputs": [],
   "source": [
    "message_chinese = \"你好，世界\""
   ]
  },
  {
   "cell_type": "markdown",
   "metadata": {},
   "source": [
    "### The `print` function\n",
    "\n",
    "Before moving on we might quickly address what's going on with these print instructions. The command `print(\"Hello\")` takes a value (here `\"Hello\"`) and prints it to the screen. If you put this print statement in a script and then run it from the terminal, the program will output `\"Hello\"` right on the command line. \n",
    "\n",
    "Here `print` is an example of a function. Functions (often called subroutines, e.g. [in Wikipedia](https://en.wikipedia.org/wiki/Subroutine)) are blocks of instructions that we want to execute many times. Thus we define them once, in one place and then reference them each time we want to *invoke* them. We'll elaborate more on functions when we get to that portion of the tutorial, but basically functions take some input (optionally none), execute some instructions (lines of code), and then produce some output (optionally none).\n",
    "\n",
    "Here, we've been passing the `print` function text strings and it has been executing code to print that text to the screen. The `print` function **does not return any values**, but it's very flexible in what kinds of values it takes as input: numbers, variables, lists, and more complex objects. We've only been using `print` so far to print *string literals*. In the coming sections we'll go deeper into what a literal means, how functions work, and how to define our own functions. \n",
    "\n",
    "## Comments\n",
    "\n",
    "When we write code, we sometimes need to explain what we're doing. \n",
    "The process or clearly explaining the purpose of each component of the code is generally called documentation.\n",
    "\n",
    "We can add documentation to code by using *comments*, \n",
    "lines of text that will be visible to other programmers\n",
    "but which the Python interpreter will ignore.\n",
    "In Python, we mark comments with the pound symbol `#`"
   ]
  },
  {
   "cell_type": "code",
   "execution_count": 1,
   "metadata": {},
   "outputs": [],
   "source": [
    "# This is a commennt\n",
    "# Every line preceded by a \"#\" \n",
    "#   ... will not execute"
   ]
  },
  {
   "cell_type": "markdown",
   "metadata": {},
   "source": [
    "The previous block of code will not produce any output. \n",
    "Moreover, Python won't do any processing,\n",
    "besides whatever small amount of parsing is required \n",
    "to ingest the comment and ignore it.\n",
    "\n",
    "## Markdown\n",
    "Jupyter notebooks are not just code editors in the web browser.\n",
    "They give us an interactive environment for running and writing code,\n",
    "for visualizing data, and for explaining ideas in a pedagogical context.\n",
    "Accordingly, they let us write formatted text using a stripped-down markup language called Markdown. This cell is written in Markdown.  It's not difficult to find Markdown cheatsheets on the Internet. [Here's one that I sometimes refer to](https://github.com/adam-p/markdown-here/wiki/Markdown-Cheatsheet).\n",
    "\n",
    "To flip your cell between markdown and code, either select the `Cell>Cell Type>Markdown` or `Cell>Cell Type>Code` from the dropdowns, respectively, or hit `M` or `Y` while in command mode, respectively (not capitalized, just the key)."
   ]
  }
 ],
 "metadata": {
  "kernelspec": {
   "display_name": "Python 3",
   "language": "python",
   "name": "python3"
  },
  "language_info": {
   "codemirror_mode": {
    "name": "ipython",
    "version": 3
   },
   "file_extension": ".py",
   "mimetype": "text/x-python",
   "name": "python",
   "nbconvert_exporter": "python",
   "pygments_lexer": "ipython3",
   "version": "3.7.4"
  }
 },
 "nbformat": 4,
 "nbformat_minor": 2
}
