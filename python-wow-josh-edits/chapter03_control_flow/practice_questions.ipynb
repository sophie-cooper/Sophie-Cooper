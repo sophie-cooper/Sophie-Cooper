{
 "cells": [
  {
   "cell_type": "markdown",
   "metadata": {},
   "source": [
    "# Practice questions on control flow\n",
    "\n",
    "1. Write a `for` loop to print the numbers from $1$ to $10$ using the `range()` function. \n",
    "2. Given a list `my_list` that contains some collection of objects, write a loop to iterate over the elements and prints each to the screen.\n",
    "3. Uses a nested loop to implement a naive algorithm to identify the first 1000 prime numbers. For each integer $i$ between 1 and 1000 determine if any integer between $1$ and $\\text{sqrt}(i)$ divides $i$. If not, then $i$ is prime! Use a list to keep track as you go of all the previously observed primes. \n",
    "4. Given a dictionary of type `the_dict = {key_1:value_1, ..., key_n:value_n}`, write a `for` loop iterate over each key, value paie in the dictionary and append them as (key, value) tuples to a list. \n",
    "5. Do the same thing in one line of code using a list comprehension.\n",
    "6. Read in a document, one line at a time. For each line, count the number of words, appending that number of words to a list. Then using a separate loop, pass over the list to perform some calculations, generating a report - what is the largest element in the list? What is the smallest? What is the mean? What is the median?\n",
    "7. Read in the same file and iterate over the document one line at a time, printing each line to screen after removing all 4-letter words. \n",
    "8. Write a second version of the script that checks the command line arguments for a set of delimiters, then use these to split lines into words. This allows the user to customize the script, say to decide whether hyphenated words should count as one word or two."
   ]
  },
  {
   "cell_type": "code",
   "execution_count": null,
   "metadata": {},
   "outputs": [],
   "source": []
  }
 ],
 "metadata": {
  "kernelspec": {
   "display_name": "Python 3",
   "language": "python",
   "name": "python3"
  },
  "language_info": {
   "codemirror_mode": {
    "name": "ipython",
    "version": 3
   },
   "file_extension": ".py",
   "mimetype": "text/x-python",
   "name": "python",
   "nbconvert_exporter": "python",
   "pygments_lexer": "ipython3",
   "version": "3.6.5"
  }
 },
 "nbformat": 4,
 "nbformat_minor": 2
}
