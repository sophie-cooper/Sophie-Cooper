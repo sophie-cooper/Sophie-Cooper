{
 "cells": [
  {
   "cell_type": "markdown",
   "metadata": {},
   "source": [
    "# Looping\n",
    "\n",
    "Now that we have come command of collections, \n",
    "it's natural that we approach the topic of looping.\n",
    "In [the previous section on conditional (if-then) branching](../sec01_conditionals.ipynb) \n",
    "we introduced one powerful way of deciding which blocks of code run and when.\n",
    "\n",
    "The next step is be able to decide *how many times* to execute a block of code.\n",
    "Generally, in programming we call this looping.\n",
    "In Python, the main looping constructs are (most common) `for` loops and (less often) `while` loops.\n",
    "A `for` loop just takes a collection of items and executes the block of code one time for each element in the list."
   ]
  },
  {
   "cell_type": "code",
   "execution_count": 3,
   "metadata": {},
   "outputs": [],
   "source": [
    "sax_players = ['Lester Young', 'Charlie Parker', 'John Coltrane', 'Sonny Rollins', 'Cannonball Adderley']"
   ]
  },
  {
   "cell_type": "code",
   "execution_count": 5,
   "metadata": {},
   "outputs": [
    {
     "name": "stdout",
     "output_type": "stream",
     "text": [
      "Executing the block!\n",
      "Executing the block!\n",
      "Executing the block!\n",
      "Executing the block!\n",
      "Executing the block!\n"
     ]
    }
   ],
   "source": [
    "for _ in sax_players:\n",
    "    print(\"Executing the block!\")"
   ]
  },
  {
   "cell_type": "markdown",
   "metadata": {},
   "source": [
    "Now it's not especially exciting to just do the same *exact* thing $n$ times in a row. \n",
    "However we can alter the execution in several ways. \n",
    "First, we can alter the state of variables inside each execution of the loop,\n",
    "this can, in turn, shape the behavior of each subsequent execution of the loop."
   ]
  },
  {
   "cell_type": "code",
   "execution_count": 13,
   "metadata": {},
   "outputs": [
    {
     "name": "stdout",
     "output_type": "stream",
     "text": [
      "We are entering the loop for the 1st time. The 1th saxophonist is Lester Young\n",
      "We are entering the loop for the 2st time. The 2th saxophonist is Charlie Parker\n",
      "We are entering the loop for the 3st time. The 3th saxophonist is John Coltrane\n",
      "We are entering the loop for the 4st time. The 4th saxophonist is Sonny Rollins\n",
      "We are entering the loop for the 5st time. The 5th saxophonist is Cannonball Adderley\n"
     ]
    }
   ],
   "source": [
    "count = 0\n",
    "for _ in sax_players:\n",
    "    print (\"We are entering the loop for the %sst time. The %sth saxophonist is %s\" \n",
    "           % (count + 1, count+1, sax_players[count]))   \n",
    "    count += 1"
   ]
  },
  {
   "cell_type": "markdown",
   "metadata": {},
   "source": [
    "## Combining Conditionals and Loops \n",
    "\n",
    "Now you might notices that this program is a bit lousy. Nobody writes 1th or 2th or 3th. We typically write \"1st\", \"2nd\", \"3rd\", and then use \"th\" for each of the other digits. \n",
    "This simple example demonstrates the power of combining conditionals and loops.\n",
    "We can use the loop to pass over many elements, \n",
    "then for each one, we can behave differerently depending on the context."
   ]
  },
  {
   "cell_type": "code",
   "execution_count": 12,
   "metadata": {},
   "outputs": [
    {
     "name": "stdout",
     "output_type": "stream",
     "text": [
      "We are entering the loop for the 1st time. The 1st saxophonist is Lester Young\n",
      "We are entering the loop for the 2nd time. The 2nd saxophonist is Charlie Parker\n",
      "We are entering the loop for the 3rd time. The 3rd saxophonist is John Coltrane\n",
      "We are entering the loop for the 4th time. The 4th saxophonist is Sonny Rollins\n",
      "We are entering the loop for the 5th time. The 5th saxophonist is Cannonball Adderley\n"
     ]
    }
   ],
   "source": [
    "count = 0\n",
    "for _ in sax_players:\n",
    "    if count + 1 % 10 == 1:\n",
    "        suffix = \"st\"\n",
    "    elif count + 1 % 10 == 2:\n",
    "        suffix = \"nd\"\n",
    "    elif count + 1 % 10 == 3:\n",
    "        suffix = \"rd\"\n",
    "    else:\n",
    "        suffix = \"th\"\n",
    "            \n",
    "    print (\"We are entering the loop for the %s%s time. The %s%s saxophonist is %s\" \n",
    "           % (count + 1, suffix, count+1, suffix, sax_players[count]))   \n",
    "    count += 1"
   ]
  },
  {
   "cell_type": "markdown",
   "metadata": {},
   "source": [
    "## Bookkeeping with `for` loops\n",
    "\n",
    "Creating and incrementing our variable `count` and then using it to index into our list is a bit onerous. \n",
    "Accessing each element of a list is such a common use case that Python makes it super easy. \n",
    "We just use this syntax:\n",
    "```\n",
    "for var in some_iterable_object:\n",
    "```\n",
    "Here `var` can be any variable name we want to use to access the current element of the list on each pass through the loop. In fact Python was already returning each element in the `sax_players` list but we were just ignoring it (the the `_` syntax lets us discard a value we have no use for).\n",
    "Let's rewrite out code to use this functionality:\n"
   ]
  },
  {
   "cell_type": "code",
   "execution_count": 14,
   "metadata": {},
   "outputs": [
    {
     "name": "stdout",
     "output_type": "stream",
     "text": [
      "We are entering the loop for the 1st time. The 1st saxophonist is Lester Young\n",
      "We are entering the loop for the 2nd time. The 2nd saxophonist is Charlie Parker\n",
      "We are entering the loop for the 3rd time. The 3rd saxophonist is John Coltrane\n",
      "We are entering the loop for the 4th time. The 4th saxophonist is Sonny Rollins\n",
      "We are entering the loop for the 5th time. The 5th saxophonist is Cannonball Adderley\n"
     ]
    }
   ],
   "source": [
    "count = 0\n",
    "for player in sax_players:\n",
    "    if count + 1 % 10 == 1:\n",
    "        suffix = \"st\"\n",
    "    elif count + 1 % 10 == 2:\n",
    "        suffix = \"nd\"\n",
    "    elif count + 1 % 10 == 3:\n",
    "        suffix = \"rd\"\n",
    "    else:\n",
    "        suffix = \"th\"\n",
    "            \n",
    "    print (\"We are entering the loop for the %s%s time. The %s%s saxophonist is %s\" \n",
    "           % (count + 1, suffix, count+1, suffix, player))   \n",
    "    count += 1"
   ]
  },
  {
   "cell_type": "markdown",
   "metadata": {},
   "source": [
    "Now additionally, it's so common that we both want to access both the `count` and also the element, \n",
    "that Python provides us with with special tool to access both. "
   ]
  },
  {
   "cell_type": "code",
   "execution_count": 15,
   "metadata": {},
   "outputs": [
    {
     "name": "stdout",
     "output_type": "stream",
     "text": [
      "We are entering the loop for the 0st time. The 1st saxophonist is Lester Young\n",
      "We are entering the loop for the 1nd time. The 2nd saxophonist is Charlie Parker\n",
      "We are entering the loop for the 2rd time. The 3rd saxophonist is John Coltrane\n",
      "We are entering the loop for the 3th time. The 4th saxophonist is Sonny Rollins\n",
      "We are entering the loop for the 4th time. The 5th saxophonist is Cannonball Adderley\n"
     ]
    }
   ],
   "source": [
    "for i, player in enumerate(sax_players):\n",
    "    if i+1 % 10 == 1:\n",
    "        suffix = \"st\"\n",
    "    elif i+1 % 10 == 2:\n",
    "        suffix = \"nd\"\n",
    "    elif i+1 % 10 == 3:\n",
    "        suffix = \"rd\"\n",
    "    else:\n",
    "        suffix = \"th\"\n",
    "        \n",
    "    print (\"We are entering the loop for the %s%s time. The %s%s saxophonist is %s\" \n",
    "           % (i, suffix, i+1, suffix, player))   \n"
   ]
  },
  {
   "cell_type": "markdown",
   "metadata": {},
   "source": [
    "## Looping $n$ times with `range`\n",
    "\n",
    "Sometimes we want to iterate for some $n$ times where we don't necessarily care about a particular list that has $n$ elements. Here we can use the `range` function. \n",
    "Calling `range(n)` takes some integer `n` and returns an object that we can think of as a list of consecutive numbers that begins at `0` and has length `n` (ending at `n - 1`). We can gain some intutition below:"
   ]
  },
  {
   "cell_type": "code",
   "execution_count": 17,
   "metadata": {},
   "outputs": [
    {
     "name": "stdout",
     "output_type": "stream",
     "text": [
      "0\n",
      "1\n",
      "2\n",
      "3\n",
      "4\n",
      "5\n",
      "6\n",
      "7\n",
      "8\n",
      "9\n"
     ]
    }
   ],
   "source": [
    "for i in range(10):\n",
    "    print(i)"
   ]
  },
  {
   "cell_type": "markdown",
   "metadata": {},
   "source": [
    "The object returned by range is an iterable object. It looks a lot like a list. It's not exactly a list, but it supports all the operations we care about. We can index into it, and we can get its length. "
   ]
  },
  {
   "cell_type": "code",
   "execution_count": 32,
   "metadata": {},
   "outputs": [
    {
     "name": "stdout",
     "output_type": "stream",
     "text": [
      "<class 'range'>\n",
      "10\n",
      "4\n"
     ]
    }
   ],
   "source": [
    "print(type(range(10)))\n",
    "print(len(range(10)))\n",
    "print(range(10)[4])"
   ]
  },
  {
   "cell_type": "markdown",
   "metadata": {},
   "source": [
    "We can also call `range` with an arbitrary starting and ending point"
   ]
  },
  {
   "cell_type": "code",
   "execution_count": 30,
   "metadata": {},
   "outputs": [
    {
     "name": "stdout",
     "output_type": "stream",
     "text": [
      "4\n",
      "5\n",
      "6\n",
      "7\n"
     ]
    }
   ],
   "source": [
    "for i in range(4,8):\n",
    "    print(i)"
   ]
  },
  {
   "cell_type": "markdown",
   "metadata": {},
   "source": [
    "You might notice that range(4,8) is a lot like the slice notation that we used to access into lists.\n",
    "However, we cannot in fact index into lists with range objects (vs slice notation).\n",
    "If you try to run `x = [\"a\",\"b\",\"c\",\"d\",\"e\",\"f\",\"g\"][range(3,5)]` you'll get an error:\n",
    "\n",
    "```\n",
    "TypeError: list indices must be integers or slices, not range\n",
    "```"
   ]
  }
 ],
 "metadata": {
  "kernelspec": {
   "display_name": "Python 3",
   "language": "python",
   "name": "python3"
  },
  "language_info": {
   "codemirror_mode": {
    "name": "ipython",
    "version": 3
   },
   "file_extension": ".py",
   "mimetype": "text/x-python",
   "name": "python",
   "nbconvert_exporter": "python",
   "pygments_lexer": "ipython3",
   "version": "3.7.4"
  }
 },
 "nbformat": 4,
 "nbformat_minor": 2
}
