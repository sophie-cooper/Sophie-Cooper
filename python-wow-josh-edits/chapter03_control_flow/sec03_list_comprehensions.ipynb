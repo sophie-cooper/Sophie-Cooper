{
 "cells": [
  {
   "cell_type": "markdown",
   "metadata": {},
   "source": [
    "# List Comprehensions\n",
    "\n",
    "Sometimes we want to rapidly transform one list or collection into another. \n",
    "Python gives us a rapid way of creating lists with *list comprehensions*.\n",
    "The basic syntax is to iterate through some iterable object, \n",
    "and for each element evaluate some expression,\n",
    "these expressions become the elements of the new list. \n",
    "\n",
    "Let's start with a simple example. Say we want to make a list consisting of the first `50` odd numbers.\n",
    "We can create this list by taking the numbers between 0 and 49, multiplying each by 2 and then adding 1:"
   ]
  },
  {
   "cell_type": "code",
   "execution_count": 16,
   "metadata": {},
   "outputs": [
    {
     "data": {
      "text/plain": [
       "[1, 3, 5, 7, 9, 11, 13, 15, 17, 19]"
      ]
     },
     "execution_count": 16,
     "metadata": {},
     "output_type": "execute_result"
    }
   ],
   "source": [
    "odds = [(i*2 + 1) for i in range(50)]\n",
    "odds[:10]"
   ]
  },
  {
   "cell_type": "markdown",
   "metadata": {},
   "source": [
    "Alternatively, we can also include a conditional insides a list comprehension.\n",
    "This allows us to expres the odds in perhaps a more intuitive way:"
   ]
  },
  {
   "cell_type": "code",
   "execution_count": 20,
   "metadata": {},
   "outputs": [
    {
     "data": {
      "text/plain": [
       "[1, 3, 5, 7, 9, 11, 13, 15, 17, 19]"
      ]
     },
     "execution_count": 20,
     "metadata": {},
     "output_type": "execute_result"
    }
   ],
   "source": [
    "odds = [i for i in range(100) if i % 2 == 1]\n",
    "odds[:10]"
   ]
  },
  {
   "cell_type": "markdown",
   "metadata": {},
   "source": [
    "Commonly, we might use list comprehensions to access some desired representation of the data stored in a dictionary. \n",
    "As trivial examples, we could access either the keys or values of a dictionary as a list by using a comprehension:"
   ]
  },
  {
   "cell_type": "code",
   "execution_count": 21,
   "metadata": {},
   "outputs": [],
   "source": [
    "my_dict = {\"Roadster\":200000, \"Model S\":70000, \"Model X\": 100000, \"Model 3\": 35000}"
   ]
  },
  {
   "cell_type": "code",
   "execution_count": 22,
   "metadata": {},
   "outputs": [],
   "source": [
    "keys = [key for key in my_dict.keys()]"
   ]
  },
  {
   "cell_type": "code",
   "execution_count": 23,
   "metadata": {},
   "outputs": [],
   "source": [
    "values = [my_dict[key] for key in my_dict.keys()]"
   ]
  },
  {
   "cell_type": "markdown",
   "metadata": {},
   "source": [
    "## List comprehensions with tuples\n",
    "\n",
    "We can even return a list of tuples:"
   ]
  },
  {
   "cell_type": "code",
   "execution_count": 25,
   "metadata": {},
   "outputs": [
    {
     "data": {
      "text/plain": [
       "[('Roadster', 400000),\n",
       " ('Model S', 140000),\n",
       " ('Model X', 200000),\n",
       " ('Model 3', 70000)]"
      ]
     },
     "execution_count": 25,
     "metadata": {},
     "output_type": "execute_result"
    }
   ],
   "source": [
    "actual_prices_after_upgrades = [(key, my_dict[key]*2) for key in my_dict.keys()]\n",
    "actual_prices_after_upgrades"
   ]
  }
 ],
 "metadata": {
  "kernelspec": {
   "display_name": "Python 3",
   "language": "python",
   "name": "python3"
  },
  "language_info": {
   "codemirror_mode": {
    "name": "ipython",
    "version": 3
   },
   "file_extension": ".py",
   "mimetype": "text/x-python",
   "name": "python",
   "nbconvert_exporter": "python",
   "pygments_lexer": "ipython3",
   "version": "3.7.4"
  }
 },
 "nbformat": 4,
 "nbformat_minor": 2
}
