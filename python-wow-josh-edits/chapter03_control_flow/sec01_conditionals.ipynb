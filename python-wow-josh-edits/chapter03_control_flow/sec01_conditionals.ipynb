{
 "cells": [
  {
   "cell_type": "markdown",
   "metadata": {},
   "source": [
    "# Conditionals (if-then-else)\n",
    "\n",
    "Until now, we've just learned about expressions.\n",
    "These include literals and variables,\n",
    "together with operators that act upon them to produce new values.\n",
    "We've also delved with a few simple functions,\n",
    "such as those that print output to the screen or that collect input from users.\n",
    "All the programs (really Jupyter code blocks) that we wrote so far \n",
    "just execute line by line\n",
    "from the first to the last\n",
    "and then terminate.\n",
    "\n",
    "In this module, we'll get into some more sophisticated ways \n",
    "that we can structure our programs. \n",
    "In particular, we'll want to control \n",
    "*which blocks of code execute when*,\n",
    "and for *how many times* \n",
    "and *on what data*. \n",
    "\n",
    "\n",
    "## Conditional execution with `if` blocks\n",
    "\n",
    "To start, we can control which code executes when \n",
    "by using and `if` block.\n",
    "The basic syntax is:\n",
    "\n",
    "```\n",
    "if <condition>:\n",
    "    <conditional_instruction1>\n",
    "    ...\n",
    "\n",
    "<code_that_doesnt_depend_on_condition>\n",
    "```\n",
    "\n",
    "The condition (`<condition>`) is any expression that evaluates to `True` or to `False`. You can also get away with using some other types of values, e.g. numbers, but you better be sure that you understand how python is going to behave in these situations. Is 1 `True`? What about `-1`? What about an infinitesimally small nonzero fraction like `1e-40`? These are ultimately choices made by Python's designers and some of them may be arbitrary. \n",
    "\n",
    "Python can tell which lines are supposed to execute vs not by looking at the indentation!\n",
    "This is rather different from the many other languages that ignore whitespace.\n",
    "In addition to making things visually pleasant by obviating the need for braces and semi-colons (blocks in many languages look like `{code_line1; code_line2}`),\n",
    "the mandated indentation scheme makes it very easy to tell what's going on in a Python program by inspecting it visually. \n",
    "Programmers in other languages end up needing to deal with this anyway \n",
    "by enforcing style standards.\n",
    "\n",
    "Let's write a piece of conditional code below:"
   ]
  },
  {
   "cell_type": "code",
   "execution_count": 16,
   "metadata": {},
   "outputs": [
    {
     "name": "stdout",
     "output_type": "stream",
     "text": [
      "the current hour is:  19\n",
      "Good afternoon/evening\n",
      "Let's carry on with the rest of the lesson...\n"
     ]
    }
   ],
   "source": [
    "from datetime import datetime\n",
    "\n",
    "hour = datetime.now().hour\n",
    "print(\"the current hour is: \", hour)\n",
    "\n",
    "if hour > 12: \n",
    "    print(\"Good afternoon/evening\")\n",
    "\n",
    "print(\"Let's carry on with the rest of the lesson...\")"
   ]
  },
  {
   "cell_type": "markdown",
   "metadata": {},
   "source": [
    "Depending on when you are running your code, you may or may not have received a nice greeting from our program. \n",
    "\n",
    "## Handling mutually exclusive cases with `if: ` ... `else:` ... \n",
    "\n",
    "Often we don't just want to handle the case when the condition evaluates to `True` - we may want to run an alternative piece of code when the condition *fails*. In these cases we can use the if-else construct:"
   ]
  },
  {
   "cell_type": "code",
   "execution_count": 18,
   "metadata": {},
   "outputs": [
    {
     "name": "stdout",
     "output_type": "stream",
     "text": [
      "Good afternoon/evening\n"
     ]
    }
   ],
   "source": [
    "if hour > 12: \n",
    "    print(\"Good afternoon/evening\")\n",
    "else:\n",
    "    print(\"Good morning\")"
   ]
  },
  {
   "cell_type": "markdown",
   "metadata": {},
   "source": [
    "## More than 2 cases with  `if: ` ... `elif: `... `else:` ... \n",
    "\n",
    "Finally, we can check an arbitrary number of mutually exclusive conditions by using if-elif-else. `elif` is short hand for \"else if\". An *if-elif-...-else* construct will always start with an if and typically end with an else. There will never be an else in the middle.\n",
    "The reader can probably think about it and recognize why."
   ]
  },
  {
   "cell_type": "code",
   "execution_count": 20,
   "metadata": {},
   "outputs": [
    {
     "name": "stdout",
     "output_type": "stream",
     "text": [
      "Good evening!\n"
     ]
    }
   ],
   "source": [
    "if hour < 9: \n",
    "    print(\"Good morning!\")\n",
    "elif hour < 12:\n",
    "    print(\"Good day!\")\n",
    "elif hour < 7:\n",
    "    print(\"Good afternoon!\")\n",
    "elif hour < 20:\n",
    "    print(\"Good evening!\")\n",
    "elif hour < 23:\n",
    "    print(\"Good night!\")\n",
    "else:\n",
    "    print(\"Shouldn't you be asleep? We advise that students maintain a healthy work-life balance.\")\n"
   ]
  }
 ],
 "metadata": {
  "kernelspec": {
   "display_name": "Python 3",
   "language": "python",
   "name": "python3"
  },
  "language_info": {
   "codemirror_mode": {
    "name": "ipython",
    "version": 3
   },
   "file_extension": ".py",
   "mimetype": "text/x-python",
   "name": "python",
   "nbconvert_exporter": "python",
   "pygments_lexer": "ipython3",
   "version": "3.7.4"
  }
 },
 "nbformat": 4,
 "nbformat_minor": 2
}
