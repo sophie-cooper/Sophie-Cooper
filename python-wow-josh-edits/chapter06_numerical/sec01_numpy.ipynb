{
 "cells": [
  {
   "cell_type": "markdown",
   "metadata": {},
   "source": [
    "# Numpy\n",
    "\n",
    "In this section we'll briefly introduce the numpy library,\n",
    "it's core data structures, and give a hint\n",
    "of the vast capabilities it provides. \n",
    "To start, we'll need to import numpy.\n",
    "Most often professionals will `import numpy as np`. \n",
    "The `import x as y` notation just allows us to rename a library for convenience.\n",
    "Since we'll use numpy so often, it's easier if we only have to type `np` each time.\n",
    "Then we can spend more of our money on ice cream and less on arthritis medication."
   ]
  },
  {
   "cell_type": "code",
   "execution_count": 2,
   "metadata": {},
   "outputs": [],
   "source": [
    "import numpy as np"
   ]
  },
  {
   "cell_type": "markdown",
   "metadata": {},
   "source": [
    "Now we can access all kinds of functions, objects, and special numbers from the numpy library."
   ]
  },
  {
   "cell_type": "code",
   "execution_count": 4,
   "metadata": {},
   "outputs": [
    {
     "name": "stdout",
     "output_type": "stream",
     "text": [
      "2.718281828459045\n",
      "3.141592653589793\n"
     ]
    }
   ],
   "source": [
    "print(np.e)\n",
    "print(np.pi)"
   ]
  },
  {
   "cell_type": "markdown",
   "metadata": {},
   "source": [
    "We can also access a host of numpy functions, including those we've already encountered in the standard `math` library."
   ]
  },
  {
   "cell_type": "code",
   "execution_count": 7,
   "metadata": {},
   "outputs": [
    {
     "data": {
      "text/plain": [
       "1.0"
      ]
     },
     "execution_count": 7,
     "metadata": {},
     "output_type": "execute_result"
    }
   ],
   "source": [
    "np.ceil(np.e)\n",
    "np.sin(np.pi/2)"
   ]
  },
  {
   "cell_type": "markdown",
   "metadata": {},
   "source": [
    "## Numpy's ndarray\n",
    "\n",
    "At the heart of numpy is a powerful data object for manipulating n-dimensional arrays. \n",
    "In short, Python's lists aim extreme flexibility - but come at the expense of extreme slowness.\n",
    "Imagine that we had a two-dimensional array:"
   ]
  },
  {
   "cell_type": "code",
   "execution_count": 9,
   "metadata": {},
   "outputs": [
    {
     "name": "stdout",
     "output_type": "stream",
     "text": [
      "[[0, 1, 2, 3, 4, 5, 6, 7, 8, 9], [10, 11, 12, 13, 14, 15, 16, 17, 18, 19], [20, 21, 22, 23, 24, 25, 26, 27, 28, 29]]\n"
     ]
    }
   ],
   "source": [
    "matrix1 = [[0,1,2,3,4,5,6,7,8,9],[10,11,12,13,14,15,16,17,18,19],[20,21,22,23,24,25,26,27,28,29]]\n",
    "print(matrix1)"
   ]
  },
  {
   "cell_type": "markdown",
   "metadata": {},
   "source": [
    "Now at this size, for most purposes, this list is fine. But say for example that we wanted to calcualte the average value in the list. How might we do it? We'd likely have to iterate over all rows and all columns of the list."
   ]
  },
  {
   "cell_type": "code",
   "execution_count": 13,
   "metadata": {},
   "outputs": [
    {
     "name": "stdout",
     "output_type": "stream",
     "text": [
      "14.5\n"
     ]
    }
   ],
   "source": [
    "total = 0\n",
    "denominator = len(matrix1) * len(matrix1[0])\n",
    "for row in range(len(matrix1)):\n",
    "    for col in range(len(matrix1[0])):\n",
    "        total += matrix1[row][col]\n",
    "print(total/denominator)"
   ]
  },
  {
   "cell_type": "markdown",
   "metadata": {},
   "source": [
    "This is problematic for a couple reasons. First, it's a lot of code to do a very standard numerical calcualtion. Second, in order facilitate the flexibility of Python's lists to store aribitrary objects, the numbers are very slow to access. It might seem fast to us (many thousands of accesses per second!) but compared to the same operation using arrays implemented efficiently in C, this is a glacial speed. \n",
    "\n",
    "Numpy gives us an extremely optimized tools for storing and manipulating arrays comprised of elments all of which are contstrained to assume the same type (selected among a restricted list of allowed types).\n",
    "We can get started by creating an numpy ndarray:"
   ]
  },
  {
   "cell_type": "code",
   "execution_count": 19,
   "metadata": {},
   "outputs": [
    {
     "name": "stdout",
     "output_type": "stream",
     "text": [
      "[[ 0  1  2  3  4  5  6  7  8  9]\n",
      " [10 11 12 13 14 15 16 17 18 19]\n",
      " [20 21 22 23 24 25 26 27 28 29]]\n"
     ]
    }
   ],
   "source": [
    "matrix2 = numpy.array([[0,1,2,3,4,5,6,7,8,9],[10,11,12,13,14,15,16,17,18,19],[20,21,22,23,24,25,26,27,28,29]])\n",
    "print(matrix2)"
   ]
  },
  {
   "cell_type": "markdown",
   "metadata": {},
   "source": [
    "We can access and ndarray's data type via the `.dtype` attribute:"
   ]
  },
  {
   "cell_type": "code",
   "execution_count": 20,
   "metadata": {},
   "outputs": [
    {
     "data": {
      "text/plain": [
       "dtype('int64')"
      ]
     },
     "execution_count": 20,
     "metadata": {},
     "output_type": "execute_result"
    }
   ],
   "source": [
    "matrix2.dtype"
   ]
  },
  {
   "cell_type": "markdown",
   "metadata": {},
   "source": [
    "It's now easy to access standard numperical functions either via the numpy library functinos or via the corresponding methods of the ndarray object"
   ]
  },
  {
   "cell_type": "code",
   "execution_count": 22,
   "metadata": {},
   "outputs": [
    {
     "name": "stdout",
     "output_type": "stream",
     "text": [
      "14.5\n",
      "14.5\n"
     ]
    }
   ],
   "source": [
    "print(np.mean(matrix2))\n",
    "print(matrix2.mean())"
   ]
  },
  {
   "cell_type": "markdown",
   "metadata": {},
   "source": [
    "## Shape and Axes\n",
    "\n",
    "An ndarray has multiple axes. For a 2nd-order array (i.e. matrix),\n",
    "we have two axes to work with. We can learn about the dimensions of an ndarray along each of its axes via the shape attribute:\n"
   ]
  },
  {
   "cell_type": "code",
   "execution_count": 23,
   "metadata": {},
   "outputs": [
    {
     "data": {
      "text/plain": [
       "(3, 10)"
      ]
     },
     "execution_count": 23,
     "metadata": {},
     "output_type": "execute_result"
    }
   ],
   "source": [
    "matrix2.shape"
   ]
  },
  {
   "cell_type": "markdown",
   "metadata": {},
   "source": [
    "## Creating ndarrays\n",
    "\n",
    "There are many ways to create ndarrays. \n",
    "We already saw one: by using the `np.array(...)` function\n",
    "on a Python list consisting of only numerical values.\n",
    "We can also just call up lists of ones or zeros,\n",
    "by passing the appropriate shape to the `np.ones()` and `np.zeros()` funcitons respectively."
   ]
  },
  {
   "cell_type": "code",
   "execution_count": 46,
   "metadata": {},
   "outputs": [
    {
     "name": "stdout",
     "output_type": "stream",
     "text": [
      "Using ones: \n",
      " [[1. 1. 1. 1. 1. 1. 1. 1. 1. 1.]\n",
      " [1. 1. 1. 1. 1. 1. 1. 1. 1. 1.]\n",
      " [1. 1. 1. 1. 1. 1. 1. 1. 1. 1.]\n",
      " [1. 1. 1. 1. 1. 1. 1. 1. 1. 1.]]\n",
      "\n",
      "Using zeros: \n",
      " [[0. 0. 0. 0. 0. 0.]\n",
      " [0. 0. 0. 0. 0. 0.]\n",
      " [0. 0. 0. 0. 0. 0.]]\n"
     ]
    }
   ],
   "source": [
    "print(\"Using ones: \\n\", np.ones((4,10)))\n",
    "print(\"\\nUsing zeros: \\n\", np.zeros((3,6)))"
   ]
  },
  {
   "cell_type": "markdown",
   "metadata": {},
   "source": [
    "## Accessing values\n",
    "\n",
    "We can access elements by punching in the indices along each axis separated by commas. \n",
    "Note that `my_array[i,j]` is equivalent to `my_array[i][j]`."
   ]
  },
  {
   "cell_type": "code",
   "execution_count": 28,
   "metadata": {},
   "outputs": [
    {
     "name": "stdout",
     "output_type": "stream",
     "text": [
      "16\n",
      "16\n"
     ]
    }
   ],
   "source": [
    "print(matrix2[1,6])\n",
    "print(matrix2[1][6])"
   ]
  },
  {
   "cell_type": "markdown",
   "metadata": {},
   "source": [
    "## Updating values\n",
    "Just as with any Python list, we can "
   ]
  },
  {
   "cell_type": "code",
   "execution_count": 30,
   "metadata": {},
   "outputs": [
    {
     "name": "stdout",
     "output_type": "stream",
     "text": [
      "[[  0   1   2   3   4   5   6   7   8   9]\n",
      " [ 10  11  12  13  14  15 314  17  18  19]\n",
      " [ 20  21  22  23  24  25  26  27  28  29]]\n"
     ]
    }
   ],
   "source": [
    "matrix2[1,6] = 314\n",
    "print(matrix2)"
   ]
  },
  {
   "cell_type": "markdown",
   "metadata": {},
   "source": [
    "## Aggregating over a specific axis\n",
    "\n",
    "For many operations to selectively apply the operation along a specific axis, we can specify the desired axis with a named argument. For example say that we want to compute the sum of our matrix, but only over each column:"
   ]
  },
  {
   "cell_type": "code",
   "execution_count": 31,
   "metadata": {},
   "outputs": [
    {
     "data": {
      "text/plain": [
       "array([ 30,  33,  36,  39,  42,  45, 346,  51,  54,  57])"
      ]
     },
     "execution_count": 31,
     "metadata": {},
     "output_type": "execute_result"
    }
   ],
   "source": [
    "np.sum(matrix2, axis=0)"
   ]
  },
  {
   "cell_type": "markdown",
   "metadata": {},
   "source": [
    "Note that the original array had shape (3, 10). The resulting array has shape (10). That's because we eliminated the first axis (`axis=0`) by summing over it. \n",
    "If instead, we sum over `axis 1`, we'll expect a result of dimension 3."
   ]
  },
  {
   "cell_type": "code",
   "execution_count": 35,
   "metadata": {},
   "outputs": [
    {
     "data": {
      "text/plain": [
       "array([ 45, 443, 245])"
      ]
     },
     "execution_count": 35,
     "metadata": {},
     "output_type": "execute_result"
    }
   ],
   "source": [
    "np.sum(matrix2, axis=1)"
   ]
  },
  {
   "cell_type": "code",
   "execution_count": null,
   "metadata": {},
   "outputs": [],
   "source": []
  }
 ],
 "metadata": {
  "kernelspec": {
   "display_name": "Python 3",
   "language": "python",
   "name": "python3"
  },
  "language_info": {
   "codemirror_mode": {
    "name": "ipython",
    "version": 3
   },
   "file_extension": ".py",
   "mimetype": "text/x-python",
   "name": "python",
   "nbconvert_exporter": "python",
   "pygments_lexer": "ipython3",
   "version": "3.6.5"
  }
 },
 "nbformat": 4,
 "nbformat_minor": 2
}
