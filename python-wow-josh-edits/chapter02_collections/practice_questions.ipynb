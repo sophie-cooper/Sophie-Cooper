{
 "cells": [
  {
   "cell_type": "markdown",
   "metadata": {},
   "source": [
    "# Practice Questions on Collections\n",
    "\n",
    "This notebook contains a bunch of questions aimed at verifying that you know things about collections.\n",
    "The questions below are for your practice. They ask for a mixture of writing short lines of code or expressions, or providing short responses. \n",
    "\n",
    "## Lists\n",
    "\n",
    "1. Create an empty list as a literal and assign it to a variable called `my_list`. \n",
    "2. Wite a an expression to access the length of that list.\n",
    "3. What is the type of `my_list`?\n",
    "4. What is the type of the type of `my_list`?\n",
    "5. Add the following elements to `my_list`: `4`, `10`, `17`, `3` in that order. Using four calls to the appropriate method that takes an argument and tacks it on to the end of an existing list.  \n",
    "6. What is the type of `my_list` now?\n",
    "7. What is the index corresponding to `17`?\n",
    "8. Write a line of code to extract the element corresponding to index `1` and assign it to a variable called my element.\n",
    "9. Insert an element `\"intruder\"` to the list at index `2` but otherwise keeping the order among the other elements the same.\n",
    "10. Write an expression to extract the 2nd element through the 4th element.\n",
    "11. Use the in-built list method to sort the list.\n",
    "12. Assign `my_list` to a new variable called `new_list`. \n",
    "13. Do `my_list` and `new_list` refer to the same object or are they distinct copies?\n",
    "14. Print `my_list` and `new_list`.\n",
    "14. Reverse the order of `new_list`.\n",
    "14. Now print both `my_list` and `new_list` again.\n",
    "14. How is this behavior similar or different to the behavior when assigning a variable of type `int` to another variable?\n",
    "14. Say we want to have completely distinct copies of each list. Write a line of code to make a true copy of `my_list` and assign that copy to `new_list2`."
   ]
  },
  {
   "cell_type": "code",
   "execution_count": null,
   "metadata": {},
   "outputs": [],
   "source": []
  },
  {
   "cell_type": "markdown",
   "metadata": {},
   "source": [
    "## Dictionaries\n",
    "\n",
    "1. Write a dictionary literal that contains a list of 10 actors, each as a name hashed to their age, and assign it to a variable called `actor_ages`.\n",
    "2. Extract the list of keys from the dictionary using the `.keys()` method.\n",
    "3. Explain, what is the difference between the object returned by `.keys()` and a typical Python list?\n",
    "4. Write a line of code that takes the dictionary view obejct returned by `.keys()`, casts it as a proper list and assigned it to a variable called `actors`. \n",
    "5. Add a new actor to the list \"Hugh Laurie\", mapped to age `58`. \n",
    "6. This list, in each entry so far, maps strings to integers. What other types of values can serve as keys in this dictionary? Can Booleans be keys? Ints? FLo"
   ]
  },
  {
   "cell_type": "code",
   "execution_count": null,
   "metadata": {},
   "outputs": [],
   "source": []
  }
 ],
 "metadata": {
  "kernelspec": {
   "display_name": "Python 3",
   "language": "python",
   "name": "python3"
  },
  "language_info": {
   "codemirror_mode": {
    "name": "ipython",
    "version": 3
   },
   "file_extension": ".py",
   "mimetype": "text/x-python",
   "name": "python",
   "nbconvert_exporter": "python",
   "pygments_lexer": "ipython3",
   "version": "3.6.5"
  }
 },
 "nbformat": 4,
 "nbformat_minor": 2
}
