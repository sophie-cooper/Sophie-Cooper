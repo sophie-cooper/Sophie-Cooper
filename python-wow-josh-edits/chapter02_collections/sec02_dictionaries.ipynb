{
 "cells": [
  {
   "cell_type": "markdown",
   "metadata": {},
   "source": [
    "# Dictionaries\n",
    "\n",
    "If you've gotten your head around lists,\n",
    "then dictionaries are quite easy.\n",
    "While lists are collections that associate *indices* with *values*,\n",
    "dictionaries are simply collections that associate *keys* with *values*\n",
    "where *keys* need not be numbers. \n",
    "For example, we might want a list \n",
    "to associate cars with prices.\n",
    "\n",
    "Just as we can an express a *list literal*, \n",
    "Python also supports *dictionary literals*.\n",
    "We define a dictionary literal by using curly braces: `{...}`,\n",
    "between the braces, we can have any number of key:value pairs."
   ]
  },
  {
   "cell_type": "code",
   "execution_count": 2,
   "metadata": {},
   "outputs": [
    {
     "name": "stdout",
     "output_type": "stream",
     "text": [
      "{'Roadster': 200000, 'Model S': 70000, 'Model X': 100000}\n"
     ]
    }
   ],
   "source": [
    "my_dict = {\"Roadster\":200000, \"Model S\":70000, \"Model X\": 100000}\n",
    "print(my_dict)"
   ]
  },
  {
   "cell_type": "markdown",
   "metadata": {},
   "source": [
    "Once we've defined a dictionary we can get values out using list-like indexing `[]`.\n",
    "Here however, instead of indexing by number, we'll index with a key:"
   ]
  },
  {
   "cell_type": "code",
   "execution_count": 3,
   "metadata": {},
   "outputs": [
    {
     "data": {
      "text/plain": [
       "200000"
      ]
     },
     "execution_count": 3,
     "metadata": {},
     "output_type": "execute_result"
    }
   ],
   "source": [
    "my_dict[\"Roadster\"]"
   ]
  },
  {
   "cell_type": "markdown",
   "metadata": {},
   "source": [
    "## Adding a key-value pair\n",
    "\n",
    "We can add a new key-value pair to the dictionary like so:"
   ]
  },
  {
   "cell_type": "code",
   "execution_count": 4,
   "metadata": {},
   "outputs": [],
   "source": [
    "my_dict[\"Model 3\"] = 35000"
   ]
  },
  {
   "cell_type": "markdown",
   "metadata": {},
   "source": [
    "This course has no affiliation with the Tesla auto company, but as far as I know for the foreseeable future, you cannot actually buy a Model 3 in a store for 35,000. Still, let's go with approimate list prices to keep the focus of the exercise on the material. \n",
    "\n",
    "## Extracting dictionary items/keys as lists\n",
    "\n",
    "We can extract all items from a dictionary as a list by using the `.items()` method."
   ]
  },
  {
   "cell_type": "code",
   "execution_count": 5,
   "metadata": {},
   "outputs": [
    {
     "data": {
      "text/plain": [
       "dict_items([('Roadster', 200000), ('Model S', 70000), ('Model X', 100000), ('Model 3', 35000)])"
      ]
     },
     "execution_count": 5,
     "metadata": {},
     "output_type": "execute_result"
    }
   ],
   "source": [
    "my_dict.items()"
   ]
  },
  {
   "cell_type": "markdown",
   "metadata": {},
   "source": [
    "And we can extract the keys as a list by calling the `.keys()` method."
   ]
  },
  {
   "cell_type": "code",
   "execution_count": 6,
   "metadata": {},
   "outputs": [
    {
     "data": {
      "text/plain": [
       "dict_keys(['Roadster', 'Model S', 'Model X', 'Model 3'])"
      ]
     },
     "execution_count": 6,
     "metadata": {},
     "output_type": "execute_result"
    }
   ],
   "source": [
    "my_dict.keys()"
   ]
  },
  {
   "cell_type": "markdown",
   "metadata": {},
   "source": [
    "## Views\n",
    "\n",
    "You might have noticed that dict.keys() returns a `dict_keys` object. \n",
    "And you might be wondering, what sort of object is a `dict_keys`? \n",
    "\n",
    "While in past versions of Python, `.keys()` would return a list,\n",
    "in Python 3 it returns a *dictionary view object*. \n",
    "Dictionary view objects (per the [official documentation here](https://docs.python.org/3/library/stdtypes.html#dictionary-view-objects))\n",
    "are **dynamic** views on the entries in a dictionary.\n",
    "\n",
    "In other words the result looks like a list, and we can manipulate it like a list,\n",
    "but when the underlying dictionary is updated, so does the dictionary view object.\n",
    "Let's demonstrate this with an example in code:"
   ]
  },
  {
   "cell_type": "code",
   "execution_count": 11,
   "metadata": {},
   "outputs": [
    {
     "data": {
      "text/plain": [
       "dict_keys(['Roadster', 'Model S', 'Model X', 'Model 3', 'Model Y'])"
      ]
     },
     "execution_count": 11,
     "metadata": {},
     "output_type": "execute_result"
    }
   ],
   "source": [
    "x = my_dict.keys()\n",
    "x"
   ]
  },
  {
   "cell_type": "code",
   "execution_count": 9,
   "metadata": {},
   "outputs": [],
   "source": [
    "my_dict[\"Model Y\"] = 190000"
   ]
  },
  {
   "cell_type": "code",
   "execution_count": 10,
   "metadata": {},
   "outputs": [
    {
     "data": {
      "text/plain": [
       "dict_keys(['Roadster', 'Model S', 'Model X', 'Model 3', 'Model Y'])"
      ]
     },
     "execution_count": 10,
     "metadata": {},
     "output_type": "execute_result"
    }
   ],
   "source": [
    "x"
   ]
  },
  {
   "cell_type": "code",
   "execution_count": null,
   "metadata": {},
   "outputs": [],
   "source": []
  }
 ],
 "metadata": {
  "kernelspec": {
   "display_name": "Python 3",
   "language": "python",
   "name": "python3"
  },
  "language_info": {
   "codemirror_mode": {
    "name": "ipython",
    "version": 3
   },
   "file_extension": ".py",
   "mimetype": "text/x-python",
   "name": "python",
   "nbconvert_exporter": "python",
   "pygments_lexer": "ipython3",
   "version": "3.7.4"
  }
 },
 "nbformat": 4,
 "nbformat_minor": 2
}
