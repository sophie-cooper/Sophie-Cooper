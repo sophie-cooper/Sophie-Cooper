{
 "cells": [
  {
   "cell_type": "markdown",
   "metadata": {},
   "source": [
    "# Lists\n",
    "\n",
    "While we've learned a lot about the *primitive* values\n",
    "that we can manipulate with Python – e.g. `int`, `float`, `str`, `bool` –\n",
    "there's more to life than individually manipulate little indivisible beads of information.\n",
    "\n",
    "To start, we often want to collect a bunch of *similar* values together,\n",
    "so we can manipulate them all in one place. \n",
    "If you're scraping the web, \n",
    "then you might have a list of 10,000 addresses that you need to scrape.\n",
    "One the other hand, if we were keeping track of public health trends,\n",
    "then we might want some way to represent a collection of test results,\n",
    "where each result represents one member of the population.\n",
    "\n",
    "The most simple and natural collections to work with in Python\n",
    "are `list` objects.\n",
    "They represent a collection of values, in some specified **order**.\n",
    "And the most simple way to work with a list is to write one down directly in code\n",
    "as a *list literal*. We do this by placing to brackets (`'[`, `]`) \n",
    "with some comma-separate values in between:"
   ]
  },
  {
   "cell_type": "code",
   "execution_count": 4,
   "metadata": {},
   "outputs": [],
   "source": [
    "import math\n",
    "\n",
    "x = [\"cat\", 5, 4, 3, print, math]"
   ]
  },
  {
   "cell_type": "code",
   "execution_count": 5,
   "metadata": {},
   "outputs": [
    {
     "data": {
      "text/plain": [
       "['cat', 5, 4, 3, <function print>, <module 'math' (built-in)>]"
      ]
     },
     "execution_count": 5,
     "metadata": {},
     "output_type": "execute_result"
    }
   ],
   "source": [
    "x"
   ]
  },
  {
   "cell_type": "code",
   "execution_count": 3,
   "metadata": {},
   "outputs": [
    {
     "data": {
      "text/plain": [
       "list"
      ]
     },
     "execution_count": 3,
     "metadata": {},
     "output_type": "execute_result"
    }
   ],
   "source": [
    "type(x)"
   ]
  },
  {
   "cell_type": "code",
   "execution_count": null,
   "metadata": {},
   "outputs": [],
   "source": []
  },
  {
   "cell_type": "code",
   "execution_count": 1,
   "metadata": {},
   "outputs": [],
   "source": [
    "my_list = [13, 2, 3, 1, 8, 5, 1]"
   ]
  },
  {
   "cell_type": "markdown",
   "metadata": {},
   "source": [
    "## Accessing from a list \n",
    "\n",
    "Now that we've defined this list, we can access its values in the following ways. \n",
    "\n",
    "### Printing lists"
   ]
  },
  {
   "cell_type": "code",
   "execution_count": 2,
   "metadata": {},
   "outputs": [
    {
     "name": "stdout",
     "output_type": "stream",
     "text": [
      "[13, 2, 3, 1, 8, 5, 1]\n"
     ]
    }
   ],
   "source": [
    "print(my_list)"
   ]
  },
  {
   "cell_type": "markdown",
   "metadata": {},
   "source": [
    "### Indexing into a list\n",
    "\n",
    "We can access its elements by their indices using bracket notation `my_list[<index>]`"
   ]
  },
  {
   "cell_type": "code",
   "execution_count": 3,
   "metadata": {},
   "outputs": [
    {
     "name": "stdout",
     "output_type": "stream",
     "text": [
      "2\n",
      "3\n"
     ]
    }
   ],
   "source": [
    "print(my_list[1])\n",
    "print(my_list[2])"
   ]
  },
  {
   "cell_type": "markdown",
   "metadata": {},
   "source": [
    "Notice that in bracket notation, we supply an *index* inside the brackets. \n",
    "The index indicates which element of the list we are retrieving.\n",
    "Each element is associated with an index based on its order, i.e. where it appears, in the list.\n",
    "\n",
    "***Note also that all lists start with index 0***"
   ]
  },
  {
   "cell_type": "code",
   "execution_count": 4,
   "metadata": {},
   "outputs": [
    {
     "name": "stdout",
     "output_type": "stream",
     "text": [
      "13\n"
     ]
    }
   ],
   "source": [
    "print(my_list[0])"
   ]
  },
  {
   "cell_type": "markdown",
   "metadata": {},
   "source": [
    "***Side note:*** For reasons we don't need to get into, that's a sensible way to index items in arrays in programming languages like C that are a bit closer to the metal than Python. It's become a standard that most languages adopt, even when those reasons no longer matter so much. However, not all languages follow the convention. Julia, a very nice language developed at MIT for mathematical computing indexes at 0, which is closer to how we talk about collections of items in math notation, and so does MatLab (a proprietary language that costs one kidney per license). \n",
    "\n",
    "Given list of unknown length - we need to find out its length in order to know *which indices are valid*. We can do that just as easily as with strings using Python's built in `len` function:"
   ]
  },
  {
   "cell_type": "code",
   "execution_count": 5,
   "metadata": {},
   "outputs": [
    {
     "data": {
      "text/plain": [
       "7"
      ]
     },
     "execution_count": 5,
     "metadata": {},
     "output_type": "execute_result"
    }
   ],
   "source": [
    "len(my_list)"
   ]
  },
  {
   "cell_type": "markdown",
   "metadata": {},
   "source": [
    "Note that because the list indices starts at `0`, the last element has index `len(mylist-1)`:"
   ]
  },
  {
   "cell_type": "code",
   "execution_count": 6,
   "metadata": {},
   "outputs": [
    {
     "name": "stdout",
     "output_type": "stream",
     "text": [
      "1\n"
     ]
    }
   ],
   "source": [
    "print(my_list[len(my_list) - 1])"
   ]
  },
  {
   "cell_type": "markdown",
   "metadata": {},
   "source": [
    "If we try to access any index larger than that we'll get an error that looks like this:\n",
    "\n",
    "```\n",
    "---------------------------------------------------------------------------\n",
    "IndexError                                Traceback (most recent call last)\n",
    "<ipython-input-15-bf67fb38c3b1> in <module>()\n",
    "----> 1 print(my_list[len(my_list)])\n",
    "\n",
    "IndexError: list index out of range\n",
    "```\n",
    "\n",
    "We can also go further back than the last element `[-1]`, and access the 2nd to last element `[-2]`, etc. "
   ]
  },
  {
   "cell_type": "markdown",
   "metadata": {},
   "source": [
    "### Slicing Lists\n",
    "\n",
    "Sometimes we want to access a continuous stretch of values from within out lists we can do this by using very similar to syntax as when we access via indices - it will look like this `my_list[start:end]`:"
   ]
  },
  {
   "cell_type": "code",
   "execution_count": 7,
   "metadata": {},
   "outputs": [
    {
     "name": "stdout",
     "output_type": "stream",
     "text": [
      "[8, 5]\n"
     ]
    }
   ],
   "source": [
    "print(my_list[4:6])"
   ]
  },
  {
   "cell_type": "markdown",
   "metadata": {},
   "source": [
    "Note that slices are inclusive on the left, but not on the right, e.g. [4:6] gives us a list that includes the elements with index 4 and index 5, but not index 6.\n",
    "\n",
    "This is useful because it makes it easy to split lists into two halves:"
   ]
  },
  {
   "cell_type": "code",
   "execution_count": 8,
   "metadata": {},
   "outputs": [
    {
     "name": "stdout",
     "output_type": "stream",
     "text": [
      "[13, 2, 3, 1]\n",
      "[8, 5, 1]\n"
     ]
    }
   ],
   "source": [
    "split_point = 4\n",
    "print(my_list[:split_point])\n",
    "print(my_list[split_point:])"
   ]
  },
  {
   "cell_type": "markdown",
   "metadata": {},
   "source": [
    "Notice above that we used one nice additional Python slicing feature. \n",
    "When `[:end]` will assume that we start at the beginning of the list, thus is equivalent to `[0:end]`. Similarly, `[end:]` will assume that we're going all the way to the end of the list, and thus is equivalent to `[end:len(my_list)]`."
   ]
  },
  {
   "cell_type": "markdown",
   "metadata": {},
   "source": [
    "## Lists and Strings\n",
    "\n",
    "You might notice that lists and strings have some things in common. Unlike integers or floats, strings and lists can be of various lengths. Moreover supports the `len()` function. \n",
    "\n",
    "The similarities don't end there. In many programming languages, text strings are represented as arrays (lists) of characters. In Python, while there is no dedicated, separate character type, the list-like nature of strings remains. \n",
    "\n",
    "For starters, we can take slices of strings."
   ]
  },
  {
   "cell_type": "code",
   "execution_count": 9,
   "metadata": {},
   "outputs": [
    {
     "data": {
      "text/plain": [
       "'I wrote it myself!'"
      ]
     },
     "execution_count": 9,
     "metadata": {},
     "output_type": "execute_result"
    }
   ],
   "source": [
    "\"This is a string, I wrote it myself!\"[-18:]"
   ]
  },
  {
   "cell_type": "markdown",
   "metadata": {},
   "source": [
    "Similarly, just as we can concatenate two strings together, \n",
    "we can concatenate two lists together:"
   ]
  },
  {
   "cell_type": "code",
   "execution_count": 11,
   "metadata": {},
   "outputs": [
    {
     "data": {
      "text/plain": [
       "[1, 1, 2, 3, 5, 8, 13, 21]"
      ]
     },
     "execution_count": 11,
     "metadata": {},
     "output_type": "execute_result"
    }
   ],
   "source": [
    "[1, 1, 2, 3] + [5, 8, 13, 21]"
   ]
  },
  {
   "cell_type": "markdown",
   "metadata": {},
   "source": [
    "## Updating elements\n",
    "\n",
    "Sometimes we'll want to update a single element in a list while keeping all others the same.\n",
    "This is easy, using `[index]` notation, we just a sign a new value to that index:"
   ]
  },
  {
   "cell_type": "code",
   "execution_count": 12,
   "metadata": {},
   "outputs": [
    {
     "name": "stdout",
     "output_type": "stream",
     "text": [
      "my_list2:  [13, 1985, 3, 1, 8, 5, 1]\n"
     ]
    }
   ],
   "source": [
    "my_list2 = my_list\n",
    "my_list2[1] = 1985\n",
    "print(\"my_list2: \", my_list2)"
   ]
  },
  {
   "cell_type": "markdown",
   "metadata": {},
   "source": [
    "We might have thought that we were very clever and by creating the variable `my_list2`, avoided messing up the original `my_list`, let's check to see how successful we were:"
   ]
  },
  {
   "cell_type": "code",
   "execution_count": 13,
   "metadata": {},
   "outputs": [
    {
     "name": "stdout",
     "output_type": "stream",
     "text": [
      "my_list:   [13, 1985, 3, 1, 8, 5, 1]\n",
      "my_list2:  [13, 1985, 3, 1, 8, 5, 1]\n"
     ]
    }
   ],
   "source": [
    "print(\"my_list:  \", my_list)\n",
    "print(\"my_list2: \", my_list2)"
   ]
  },
  {
   "cell_type": "markdown",
   "metadata": {},
   "source": [
    "Not very! See, when we assign `var = some_list`, we're not actually making a copy of the list. Instead, we are assigning a *reference* to **the same list**! \n",
    "To really make a copy, we'll want to use the `copy` package and call the `deepcopy` function:"
   ]
  },
  {
   "cell_type": "code",
   "execution_count": 14,
   "metadata": {},
   "outputs": [
    {
     "name": "stdout",
     "output_type": "stream",
     "text": [
      "my_list:   [13, 2, 3, 1, 8, 5, 1]\n",
      "my_list2:  [13, 1985, 3, 1, 8, 5, 1]\n"
     ]
    }
   ],
   "source": [
    "import copy\n",
    "my_list2 = copy.deepcopy(my_list)\n",
    "my_list[1] = 2\n",
    "print(\"my_list:  \", my_list)\n",
    "print(\"my_list2: \", my_list2)"
   ]
  },
  {
   "cell_type": "markdown",
   "metadata": {},
   "source": [
    "## Appending items to a List\n",
    "\n",
    "Often, we don't want to just update an item in place, we'll actually want to grow the list \n",
    "to accomodate new data. \n",
    "The easiest way to do this is with the `append` function:"
   ]
  },
  {
   "cell_type": "code",
   "execution_count": 15,
   "metadata": {},
   "outputs": [
    {
     "name": "stdout",
     "output_type": "stream",
     "text": [
      "my_list [13, 2, 3, 1, 8, 5, 1, 21]\n"
     ]
    }
   ],
   "source": [
    "my_list.append(21)\n",
    "print(\"my_list\", my_list)"
   ]
  },
  {
   "cell_type": "markdown",
   "metadata": {},
   "source": [
    "## Removing items from a list\n",
    "\n",
    "There are a few options for how to remove items from lists.\n",
    "One way is to call the lists `.pop()` method \n",
    "which takes an index as input and simultaneously ***removes and returns*** that element."
   ]
  },
  {
   "cell_type": "code",
   "execution_count": 16,
   "metadata": {},
   "outputs": [
    {
     "name": "stdout",
     "output_type": "stream",
     "text": [
      "[13, 1985, 3, 1, 8, 5, 1]\n",
      "[13, 3, 1, 8, 5, 1]\n"
     ]
    }
   ],
   "source": [
    "print(my_list2)\n",
    "x = my_list2.pop(1)\n",
    "print(my_list2)"
   ]
  },
  {
   "cell_type": "markdown",
   "metadata": {},
   "source": [
    "## Sorting and reversing\n",
    "Finally, you might want to take a list and sort it according to some ordering.\n",
    "To support according to whatever ordering is default (alphabetical for strings, numeric for numbers), just call a list's `.sort()` method. <!-- or `.sorted()` methods. ==>"
   ]
  },
  {
   "cell_type": "code",
   "execution_count": 21,
   "metadata": {},
   "outputs": [
    {
     "data": {
      "text/plain": [
       "[1, 1, 2, 3, 5, 8, 13, 21]"
      ]
     },
     "execution_count": 21,
     "metadata": {},
     "output_type": "execute_result"
    }
   ],
   "source": [
    "my_list.sort()\n",
    "my_list"
   ]
  },
  {
   "cell_type": "markdown",
   "metadata": {},
   "source": [
    "We can also reverse the order of elements in a list by using the `.reverse()` method."
   ]
  },
  {
   "cell_type": "code",
   "execution_count": 22,
   "metadata": {},
   "outputs": [
    {
     "data": {
      "text/plain": [
       "[21, 13, 8, 5, 3, 2, 1, 1]"
      ]
     },
     "execution_count": 22,
     "metadata": {},
     "output_type": "execute_result"
    }
   ],
   "source": [
    "my_list.reverse()\n",
    "my_list"
   ]
  },
  {
   "cell_type": "markdown",
   "metadata": {},
   "source": [
    "## Checking membership \n",
    "\n",
    "Sometimes we want to check to see if a given value is represented in a list. \n"
   ]
  }
 ],
 "metadata": {
  "kernelspec": {
   "display_name": "Python 3",
   "language": "python",
   "name": "python3"
  },
  "language_info": {
   "codemirror_mode": {
    "name": "ipython",
    "version": 3
   },
   "file_extension": ".py",
   "mimetype": "text/x-python",
   "name": "python",
   "nbconvert_exporter": "python",
   "pygments_lexer": "ipython3",
   "version": "3.7.4"
  }
 },
 "nbformat": 4,
 "nbformat_minor": 2
}
