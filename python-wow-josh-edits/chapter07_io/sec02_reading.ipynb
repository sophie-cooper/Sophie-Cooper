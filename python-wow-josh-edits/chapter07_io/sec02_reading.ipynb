{
 "cells": [
  {
   "cell_type": "markdown",
   "metadata": {},
   "source": [
    "# Reading from file"
   ]
  },
  {
   "cell_type": "code",
   "execution_count": 4,
   "metadata": {},
   "outputs": [],
   "source": [
    "with open(\"saxophonists.txt\", \"r\") as f:\n",
    "    read_text = f.read()\n",
    "    \n",
    "with open(\"saxophonists.txt\", \"r\") as f:\n",
    "    lines_text = f.readlines()"
   ]
  },
  {
   "cell_type": "code",
   "execution_count": 6,
   "metadata": {},
   "outputs": [],
   "source": [
    "saxophonists = read_text.split(\"\\n\")"
   ]
  },
  {
   "cell_type": "code",
   "execution_count": 8,
   "metadata": {},
   "outputs": [
    {
     "name": "stdout",
     "output_type": "stream",
     "text": [
      "['Lester Young', 'Charlie Parker', 'John Coltrane', 'Lee Konitz', 'Cannonball Adderley', 'Stan Getz']\n"
     ]
    }
   ],
   "source": [
    "saxophonists = saxophonists[:-1]\n",
    "print(saxophonists)"
   ]
  },
  {
   "cell_type": "code",
   "execution_count": 9,
   "metadata": {},
   "outputs": [
    {
     "data": {
      "text/plain": [
       "['Lester Young\\n',\n",
       " 'Charlie Parker\\n',\n",
       " 'John Coltrane\\n',\n",
       " 'Lee Konitz\\n',\n",
       " 'Cannonball Adderley\\n',\n",
       " 'Stan Getz\\n']"
      ]
     },
     "execution_count": 9,
     "metadata": {},
     "output_type": "execute_result"
    }
   ],
   "source": [
    "lines_text"
   ]
  },
  {
   "cell_type": "code",
   "execution_count": 11,
   "metadata": {},
   "outputs": [],
   "source": [
    "saxophonists2 = [ elem[:-1] for elem in lines_text ]"
   ]
  },
  {
   "cell_type": "code",
   "execution_count": 12,
   "metadata": {},
   "outputs": [
    {
     "data": {
      "text/plain": [
       "['Lester Young',\n",
       " 'Charlie Parker',\n",
       " 'John Coltrane',\n",
       " 'Lee Konitz',\n",
       " 'Cannonball Adderley',\n",
       " 'Stan Getz']"
      ]
     },
     "execution_count": 12,
     "metadata": {},
     "output_type": "execute_result"
    }
   ],
   "source": [
    "saxophonists2"
   ]
  },
  {
   "cell_type": "code",
   "execution_count": null,
   "metadata": {},
   "outputs": [],
   "source": []
  }
 ],
 "metadata": {
  "kernelspec": {
   "display_name": "Python 3",
   "language": "python",
   "name": "python3"
  },
  "language_info": {
   "codemirror_mode": {
    "name": "ipython",
    "version": 3
   },
   "file_extension": ".py",
   "mimetype": "text/x-python",
   "name": "python",
   "nbconvert_exporter": "python",
   "pygments_lexer": "ipython3",
   "version": "3.6.5"
  }
 },
 "nbformat": 4,
 "nbformat_minor": 2
}
